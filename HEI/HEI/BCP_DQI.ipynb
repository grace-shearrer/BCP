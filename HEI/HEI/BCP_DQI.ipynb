{
 "cells": [
  {
   "cell_type": "code",
   "execution_count": 1,
   "metadata": {},
   "outputs": [],
   "source": [
    "import os, glob\n",
    "import numpy as np\n",
    "import pandas as pd\n",
    "import warnings\n",
    "warnings.filterwarnings('ignore')\n",
    "from zipfile import ZipFile\n",
    "import argparse\n",
    "import pdb\n",
    "import HEI\n",
    "import sys"
   ]
  },
  {
   "cell_type": "markdown",
   "metadata": {},
   "source": [
    "# Dictionaries and lists"
   ]
  },
  {
   "cell_type": "code",
   "execution_count": 2,
   "metadata": {},
   "outputs": [],
   "source": [
    "imp=['Participant ID','Date of Intake','VEG0100','VEG0200','VEG0300','VEG0400','VEG0800','VEG0450','VEG0700',\n",
    "       'VEG0600','VEG0900','VEG0500','VEG0100','VEG0700','FRU0100','FRU0200','FRU0300','FRU0400',\n",
    "       'FRU0500','FRU0600','FRU0700','FRU0300','FRU0400','FRU0500','FRU0600','FRU0700',\n",
    "       'Whole Grains (ounce equivalents)','DMF0100','DMR0100','DML0100','DMN0100','DMF0200',\n",
    "       'DMR0200','DML0200','DML0300','DML0400','DCF0100','DCR0100','DCL0100','DCN0100','DYF0100',\n",
    "       'DYR0100','DYL0100','DYF0200','DYR0200','DYL0200','DYN0100','DOT0300','DOT0400','DOT0500',\n",
    "       'DOT0600','DOT0100','MRF0100','MRL0100','MRF0200','MRL0200','MRF0300','MRL0300','MRF0400',\n",
    "       'MRL0400','MCF0200','MCL0200','MRF0500','MPF0100','MPL0100','MPF0200','MFF0100','MFL0100',\n",
    "       'MFF0200','MSL0100','MSF0100','MCF0100','MCL0100','MOF0100','MOF0200','MOF0300','MOF0400',\n",
    "       'MOF0500','MOF0600','MOF0700','VEG0700','MFF0100','MFL0100','MFF0200','MSL0100','MSF0100',\n",
    "       'MOF0500','MOF0600','MOF0700','VEG0700','Sodium (mg)','Refined Grains (ounce equivalents)',\n",
    "       'Added Sugars (by Total Sugars) (g)','% Calories from SFA','Energy (kcal)',\n",
    "       'Total Polyunsaturated Fatty Acids (PUFA) (g)','Total Monounsaturated Fatty Acids (MUFA) (g)',\n",
    "       'Total Saturated Fatty Acids (SFA) (g)','FRU0100','FRU0200','DMF0200','DMR0200','DML0200','DML0300',\n",
    "       'SWT0600','BVS0400','BVS0300','BVS0500','BVS0100','BVS0200','BVS0600','BVS0700', 'SWT0600','SWT0100',\n",
    "       'SWT0200','SWT0300','SWT0700' , 'SWT0800','SWT0400','SWT0500','DOT0300' , 'DOT0400',\n",
    "       'DOT0100','DOT0200','GRR0800' , 'GRS0800',  'GRW0800','GRW0900' ,'GRS0900' , 'GRR0900' ,\n",
    "       'GRW1100' , 'GRW1200', 'GRW0400' ,'GRS0400' ,'GRR0400','VEG0800','FMC0100', 'FMC0200','DMF0100',\n",
    "       'DMR0100','DML0100','DMN0100' ,'DMF0200','DMR0200','DML0200','DOT0500', 'DOT0600','DOT0700',\n",
    "       'DOT0800','GRW0600','GRS0600','GRR0600','GRW0700','GRS0700','GRR0700','GRW1300','GRS1300']\n",
    "\n",
    "important=list(set(imp))\n",
    "\n",
    "para_dict = {\n",
    "        'hei_totveg': {'parameters':[1.1], 'name': 'HEIX1_TOTALVEG'},\n",
    "        'hei_greensbeans': {'parameters':[0.2], 'name': 'HEIX2_GREEN_AND_BEAN'},\n",
    "        'hei_totfruit': {'parameters':[0.8], 'name': 'HEIX3_TOTALFRUIT'},\n",
    "        'hei_wholefruit': {'parameters':[0.4], 'name': 'HEIX4_WHOLEFRUIT'},\n",
    "        'hei_wholegrains': {'parameters':[1.5], 'name': 'HEIX5_WHOLEGRAIN'},\n",
    "        'hei_dairy': {'parameters':[1.3], 'name': 'HEIX6_TOTALDAIRY'},\n",
    "        'hei_totproteins': {'parameters':[2.5], 'name': 'HEIX7_TOTPROT'},\n",
    "        'hei_seafoodplantprot': {'parameters':[0.8], 'name': 'HEIX8_SEAPLANT_PROT'},\n",
    "        'hei_refinedgrains': {'parameters':[1.8,4.3], 'name': 'HEIX11_REFINEDGRAIN'},\n",
    "        'hei_addedsugars': {'parameters':[6.5,26], 'name': 'HEIX12_ADDEDSUGARS'},\n",
    "        'hei_SFA': {'parameters':[8,16], 'name': 'HEIX13_SATFATS'},\n",
    "        'Fats': {'parameters':[1.2,2.5], 'name': 'HEIX9_FATTYACID'},\n",
    "        'hei_sodium':{'parameters':[1.1,2.0],'name':'HEIX10_SODIUM'}\n",
    "        }\n",
    "\n",
    "ped811_dict = {\n",
    "    'hei_vegetables': {'parameters':[0.1,1.9], 'name': 'HEIX1_VEGETABLES'},\n",
    "    'hei_totfruit': {'parameters':[0.1,1.9], 'name': 'HEIX2_TOTALFRUIT'},\n",
    "    'hei_wholegrains': {'parameters':[1.0,3.5,0.0 , 8.0], 'name': 'HEIX3_WHOLEGRAIN'},\n",
    "    'hei_milk': {'parameters':[20,28,8,35], 'name': 'HEIX4_TOTALDAIRY'},\n",
    "    'hei_proteins': {'parameters':[2.5,6.0,0,10.0], 'name': 'HEIX5_PROTEIN'},\n",
    "    'hei_refinedgrains': {'parameters':[1.6,3.5], 'name': 'HEIX6_REFINEDGRAIN'},\n",
    "    'hei_fruitjuice': {'parameters':[0.1,6.0], 'name': 'HEIX7_FRUITJUICE'},\n",
    "    'hei_SSB': {'parameters':[0.1,4.0], 'name': 'HEIX8_SSB'},\n",
    "    'hei_sweets': {'parameters':[0.1,1.0], 'name': 'HEIX9_SWEETS'},\n",
    "    'hei_salty': {'parameters':[0.1,1.0], 'name': 'HEIX10_SALTY'}\n",
    "        }\n",
    "\n",
    "ped1224_dict ={\n",
    "    'hei_vegetables': {'parameters':[0.1,7.9], 'name': 'HEIX1_VEGETABLES'},\n",
    "    'hei_totfruit': {'parameters':[0.1,7.9], 'name': 'HEIX2_TOTALFRUIT'},\n",
    "    'hei_wholegrains': {'parameters':[1.5, 5.5, 0, 8.0], 'name': 'HEIX3_WHOLEGRAIN'},\n",
    "    'hei_milk': {'parameters':[14.0,18.0,8.0,24.0], 'name': 'HEIX4_TOTALDAIRY'},\n",
    "    'hei_proteins': {'parameters':[2.0,3.0,0,6.0], 'name': 'HEIX5_PROTEIN'},\n",
    "    'hei_refinedgrains': {'parameters':[1.9, 4.2], 'name': 'HEIX6_REFINEDGRAIN'},\n",
    "    'hei_fruitjuice': {'parameters':[4.1,6.0], 'name': 'HEIX7_FRUITJUICE'},\n",
    "    'hei_SSB': {'parameters':[0.1,4.0], 'name': 'HEIX8_SSB'},\n",
    "    'hei_sweets': {'parameters':[0.1,1.0], 'name': 'HEIX9_SWEETS'},\n",
    "    'hei_salty': {'parameters':[0.1,1.0], 'name': 'HEIX10_SALTY'}\n",
    "        }\n",
    "\n",
    "ped08_dict = {\n",
    "    'hei_vegetables': {'parameters':[0,0], 'name': 'HEIX1_VEGETABLES'},\n",
    "    'hei_totfruit': {'parameters':[0,0], 'name': 'HEIX2_TOTALFRUIT'},\n",
    "    'hei_wholegrains': {'parameters':[0,0,0,0], 'name': 'HEIX3_WHOLEGRAIN'},\n",
    "    'hei_dairy': {'parameters':[0,0,0,0], 'name': 'HEIX4_TOTALDAIRY'},\n",
    "    'hei_proteins': {'parameters':[0,0,0,0], 'name': 'HEIX5_PROTEIN'},\n",
    "    'hei_refinedgrains': {'parameters':[0,0], 'name': 'HEIX6_REFINEDGRAIN'},\n",
    "    'hei_fruitjuice': {'parameters':[0,0], 'name': 'HEIX7_FRUITJUICE'},\n",
    "    'hei_SSB': {'parameters':[0,0], 'name': 'HEIX8_SSB'},\n",
    "    'hei_sweets': {'parameters':[0,0], 'name': 'HEIX9_SWEETS'},\n",
    "    'hei_salty': {'parameters':[0,0], 'name': 'HEIX10_SALTY'},\n",
    "    'hei_cereal': {'parameters':[0,0], 'name': 'HEIX11_CEREAL'}\n",
    "    }\n",
    "\n",
    "ped_dict={\n",
    "    'young': ped811_dict,\n",
    "    'child':ped1224_dict,\n",
    "    'infant':ped08_dict\n",
    "}\n",
    "\n",
    "\n",
    "hei_dict={\n",
    "      'hei_totveg':\n",
    "      ['VEG0100','VEG0200','VEG0300','VEG0400','VEG0800','VEG0450','VEG0700','VEG0600','VEG0900','VEG0500'],\n",
    "      'hei_greensbeans':\n",
    "      ['VEG0100','VEG0700'],\n",
    "      'hei_totfruit':\n",
    "      ['FRU0100','FRU0200','FRU0300','FRU0400','FRU0500','FRU0600','FRU0700'],\n",
    "      'hei_wholefruit':\n",
    "      ['FRU0300','FRU0400','FRU0500','FRU0600','FRU0700'],\n",
    "      'hei_wholegrains':\n",
    "      ['Whole Grains (ounce equivalents)'],\n",
    "      'hei_dairy':\n",
    "      ['DMF0100','DMR0100','DML0100','DMN0100','DMF0200','DMR0200','DML0200',\n",
    "                   'DML0300','DML0400','DCF0100','DCR0100','DCL0100','DCN0100','DYF0100',\n",
    "                   'DYR0100','DYL0100','DYF0200','DYR0200','DYL0200','DYN0100',\n",
    "                   'DOT0300','DOT0400','DOT0500','DOT0600','DOT0100'],\n",
    "      'hei_totproteins':\n",
    "      ['MRF0100','MRL0100','MRF0200','MRL0200','MRF0300','MRL0300','MRF0400',\n",
    "                         'MRL0400','MCF0200','MCL0200','MRF0500','MPF0100','MPL0100','MPF0200',\n",
    "                         'MFF0100','MFL0100','MFF0200','MSL0100',\n",
    "                         'MSF0100','MCF0100','MCL0100','MOF0100','MOF0200','MOF0300','MOF0400','MOF0500',\n",
    "                         'MOF0600','MOF0700','VEG0700'],\n",
    "      'hei_seafoodplantprot':\n",
    "      ['MFF0100','MFL0100','MFF0200','MSL0100','MSF0100','MOF0500','MOF0600','MOF0700','VEG0700'],\n",
    "      'hei_sodium':\n",
    "      ['Sodium (mg)'],\n",
    "      'hei_refinedgrains':\n",
    "      ['Refined Grains (ounce equivalents)'],\n",
    "      'hei_addedsugars':\n",
    "      ['Added Sugars (by Total Sugars) (g)'],\n",
    "      'ripctsfa': ['% Calories from SFA','Energy (kcal)'],\n",
    "     'energy':\n",
    "     ['Energy (kcal)'],\n",
    "     'fats':\n",
    "     ['Total Polyunsaturated Fatty Acids (PUFA) (g)','Total Monounsaturated Fatty Acids (MUFA) (g)',\n",
    "     'Total Saturated Fatty Acids (SFA) (g)']\n",
    "     }\n",
    "\n",
    "hei_ped_dict={'hei_totveg':\n",
    "        ['VEG0100','VEG0200','VEG0300','VEG0400','VEG0800','VEG0450','VEG0700','VEG0600','VEG0900','VEG0500'],\n",
    "        'hei_greensbeans':\n",
    "        ['VEG0100','VEG0700'],\n",
    "        'hei_totfruit':\n",
    "        ['FRU0100','FRU0200','FRU0300','FRU0400','FRU0500','FRU0600','FRU0700'],\n",
    "        'hei_wholefruit':\n",
    "        ['FRU0300','FRU0400','FRU0500','FRU0600','FRU0700'],\n",
    "        'hei_wholegrains':\n",
    "        ['Whole Grains (ounce equivalents)'],\n",
    "        'hei_dairy':\n",
    "        ['DMF0100','DMR0100','DML0100','DMN0100','DMF0200','DMR0200','DML0200',\n",
    "                     'DML0300','DML0400','DCF0100','DCR0100','DCL0100','DCN0100','DYF0100',\n",
    "                     'DYR0100','DYL0100','DYF0200','DYR0200','DYL0200','DYN0100',\n",
    "                     'DOT0300','DOT0400','DOT0500','DOT0600','DOT0100'],\n",
    "        'hei_totproteins':\n",
    "        ['MRF0100','MRL0100','MRF0200','MRL0200','MRF0300','MRL0300','MRF0400',\n",
    "                           'MRL0400','MCF0200','MCL0200','MRF0500','MPF0100','MPL0100','MPF0200',\n",
    "                           'MFF0100','MFL0100','MFF0200','MSL0100',\n",
    "                           'MSF0100','MCF0100','MCL0100','MOF0100','MOF0200','MOF0300','MOF0400','MOF0500',\n",
    "                           'MOF0600','MOF0700','VEG0700'],\n",
    "        'hei_seafoodplantprot':\n",
    "        ['MFF0100','MFL0100','MFF0200','MSL0100','MSF0100','MOF0500','MOF0600','MOF0700','VEG0700'],\n",
    "        'hei_refinedgrains':\n",
    "        ['Refined Grains (ounce equivalents)'],\n",
    "       'energy':\n",
    "       ['Energy (kcal)'],\n",
    "        'hei_fruitjuice':\n",
    "        ['FRU0100','FRU0200'],\n",
    "        'hei_SSB':\n",
    "        ['DMF0200','DMR0200','DML0200','DML0300','SWT0600','BVS0400','BVS0300','BVS0500','BVS0100','BVS0200','BVS0600','BVS0700', 'SWT0600'],\n",
    "        'chocolate_candies':\n",
    "        ['SWT0100'],\n",
    "        'candies':\n",
    "        ['SWT0200'],\n",
    "        'frosting':\n",
    "        ['SWT0300'],\n",
    "        'sweet_sauce':\n",
    "        ['SWT0700' , 'SWT0800' ],\n",
    "        'sugar':\n",
    "        ['SWT0400' ],\n",
    "        'syrups':\n",
    "        ['SWT0500' ],\n",
    "        'Pudding':\n",
    "        ['DOT0300' , 'DOT0400'],\n",
    "        'icecream':\n",
    "        ['DOT0100' ],\n",
    "        'nondairy_treat':\n",
    "        ['DOT0200' ],\n",
    "        'baked_good':\n",
    "        ['GRR0800' , 'GRS0800',  'GRW0800' ],\n",
    "        'chips':\n",
    "        ['GRW0900' ,'GRS0900' , 'GRR0900' , 'GRW1100' , 'GRW1200', 'GRW0400' ,'GRS0400' ,'GRR0400' ],\n",
    "        'fries':\n",
    "        ['VEG0800' ],\n",
    "        'other_fried':\n",
    "        ['FMC0100', 'FMC0200' ],\n",
    "        'milk':\n",
    "        ['DMF0100','DMR0100','DML0100','DMN0100' ,'DMF0200','DMR0200','DML0200','DOT0500', 'DOT0600'],\n",
    "        'formula_foz':\n",
    "        ['DOT0700', 'DOT0800'],\n",
    "        'cereal_oz':\n",
    "        ['GRW0600','GRS0600','GRR0600','GRW0700','GRS0700','GRR0700'],\n",
    "        'bbcereal_hcup':\n",
    "        ['GRW1300','GRS1300']\n",
    "        }\n",
    "\n",
    "conv_dict={\n",
    "    'hei_fruitjuice':4,\n",
    "    'hei_SSB':8,\n",
    "    'chocolate_candies':40,\n",
    "    'candies':15,\n",
    "    'frosting':35,\n",
    "    'sugar':4,\n",
    "    'syrups':.25,\n",
    "    'Pudding':1,\n",
    "    'icecream':.5,\n",
    "    'nondairy_treat':85,\n",
    "    'baked_good':55,\n",
    "    'fries': 70,\n",
    "    'formula_foz':5,\n",
    "    'bbcereal_hcup':.5\n",
    "}\n",
    "\n",
    "make_hei_dict={\n",
    "    'hei_sweets' :\n",
    "    ['chocolate_candies','candies','frosting','sweet_sauce','sugar','syrups','Pudding', 'icecream','nondairy_treat','baked_good'],\n",
    "    'hei_salty' :\n",
    "    ['chips','other_fried','fries'],\n",
    "    'hei_vegetables':\n",
    "    ['hei_totveg', 'hei_greensbeans'],\n",
    "    'hei_proteins':\n",
    "    ['hei_totproteins','hei_seafoodplantprot'],\n",
    "    'hei_milk':\n",
    "    ['hei_dairy','formula_foz'],\n",
    "    'hei_cereal':\n",
    "    ['cereal_oz', 'bbcereal_hcup']\n",
    "}\n",
    "\n",
    "interest = ['Participant ID','Energy (kcal)', 'hei_totveg', 'hei_greensbeans', 'hei_totfruit', 'hei_wholefruit', 'hei_wholegrains','hei_dairy', 'hei_totproteins', 'hei_seafoodplantprot', 'Total Polyunsaturated Fatty Acids (PUFA) (g)',\n",
    "        'Total Monounsaturated Fatty Acids (MUFA) (g)', 'Total Saturated Fatty Acids (SFA) (g)',\n",
    "        'hei_sodium', 'hei_refinedgrains', 'hei_addedsugars', 'ripctsfa','energy','% Calories from SFA']\n",
    "\n",
    "ped_interest = ['Participant ID','Energy (kcal)', 'hei_totveg', 'hei_greensbeans', 'hei_totfruit', 'hei_wholefruit', 'hei_wholegrains','hei_dairy', 'hei_totproteins', 'hei_seafoodplantprot',\n",
    "        'hei_refinedgrains', 'hei_addedsugars', 'ripctsfa','energy','chocolate_candies','candies','frosting','sweet_sauce','sugar','syrups','Pudding', 'icecream','nondairy_treat','baked_good',\n",
    "        'chips','other_fried','fries']\n"
   ]
  },
  {
   "cell_type": "code",
   "execution_count": 3,
   "metadata": {},
   "outputs": [],
   "source": [
    "basepath='/Users/gracer/Google Drive/BCP/data'"
   ]
  },
  {
   "cell_type": "code",
   "execution_count": 4,
   "metadata": {},
   "outputs": [],
   "source": [
    "arglist={'BASEPATH': basepath, \n",
    "         'CHILD': True, \n",
    "         'NAMES': 'testies', \n",
    "         'OPTS': ['Chil'], \n",
    "         'SAVE':os.path.join(basepath, 'derivived'),\n",
    "         'XTRA':'total_demo_dataset.csv'}"
   ]
  },
  {
   "cell_type": "code",
   "execution_count": 5,
   "metadata": {},
   "outputs": [],
   "source": [
    "for (dirpath, dirnames, filenames) in os.walk(basepath):\n",
    "        for filename in filenames:\n",
    "            if filename.endswith('.zip'):\n",
    "                tmppath=os.sep.join([dirpath, filename])\n",
    "                with ZipFile(tmppath, 'r') as zipObj:\n",
    "                   # Get a list of all archived file names from the zip\n",
    "                   listOfFileNames = zipObj.namelist()\n",
    "                   # Iterate over the file names\n",
    "                   for fileName in listOfFileNames:\n",
    "                       # Check filename endswith txt\n",
    "                        if fileName.endswith('04.txt'):\n",
    "                            zipObj.extract(fileName, os.path.join(basepath,'temp_txt'))\n",
    "                        if fileName.endswith('09.txt'):\n",
    "                            zipObj.extract(fileName, os.path.join(basepath,'temp_txt'))\n",
    "infile = os.path.join(basepath,'temp_txt')"
   ]
  },
  {
   "cell_type": "code",
   "execution_count": 6,
   "metadata": {},
   "outputs": [],
   "source": [
    "def file_org(infile, arglist, important):\n",
    "    # will create a dictionary with the file paths to all the data\n",
    "    if arglist['OPTS'] == False:\n",
    "        arglist['OPTS']=[arglist['NAMES']]\n",
    "        file_dict = {\"set_04\": {\"%s\"%arglist['NAMES']:{}}, \"set_09\": {\"%s\"%arglist['NAMES']: {}}}\n",
    "        file_dict['set_04'][\"%s\"%arglist['NAMES']][\"files\"] = [x for x in glob.glob(os.path.join(infile,'*04.txt')) if \"%s\"%arglist['NAMES'] in x]\n",
    "        file_dict['set_09'][\"%s\"%arglist['NAMES']][\"files\"] = [x for x in glob.glob(os.path.join(infile,'*09.txt')) if \"%s\"%arglist['NAMES'] in x]\n",
    "        arglist['OPTS']=[arglist['NAMES']]\n",
    "\n",
    "    else:\n",
    "        file_dict={\"set_04\":{},\"set_09\":{}}\n",
    "        for item in arglist['OPTS']:\n",
    "            print('this is the item %s'%item)\n",
    "            file_dict[\"set_04\"][item]= {}\n",
    "            file_dict[\"set_09\"][item]= {}\n",
    "\n",
    "        for key,value in file_dict.items():\n",
    "            keys=list(file_dict[key].keys())\n",
    "            for k in keys:\n",
    "                print(k)\n",
    "                file_dict['set_04'][\"%s\"%k][\"files\"] = [x for x in glob.glob(os.path.join(infile,'*04.txt')) if '%s'%k in x]\n",
    "                file_dict['set_09'][\"%s\"%k][\"files\"] = [x for x in glob.glob(os.path.join(infile,'*09.txt')) if '%s'%k in x]\n",
    "\n",
    "    return(file_dict)"
   ]
  },
  {
   "cell_type": "code",
   "execution_count": 7,
   "metadata": {},
   "outputs": [
    {
     "name": "stdout",
     "output_type": "stream",
     "text": [
      "this is the item Chil\n",
      "Chil\n",
      "Chil\n"
     ]
    }
   ],
   "source": [
    "a=file_org(infile, arglist, important)"
   ]
  },
  {
   "cell_type": "code",
   "execution_count": 8,
   "metadata": {},
   "outputs": [],
   "source": [
    "def file_reader(arglist, file_dict):\n",
    "    for ki in arglist['OPTS']:\n",
    "        temp_list = []\n",
    "        print(ki)\n",
    "        for file in file_dict[\"set_04\"][\"%s\"%ki][\"files\"]:\n",
    "            temp_df =  pd.read_csv(file, sep=\"\\t\", encoding='latin1')\n",
    "            temp_df=temp_df.drop([0])\n",
    "            for val in temp_df[\"Participant ID\"]:\n",
    "                _id = str(val).lstrip(\"0\").split(\"_\")[0]\n",
    "                temp_df.replace(val, _id, inplace=True)\n",
    "            temp_list.append(temp_df)\n",
    "        dfm4_original = pd.concat(temp_list, ignore_index=True)\n",
    "        print(\"Final dataframe size: \", dfm4_original.shape)\n",
    "        dfm4_original = dfm4_original.sort_values(by=\"Participant ID\")\n",
    "\n",
    "        for col in dfm4_original:\n",
    "            if dfm4_original[col].dtype == np.object_:\n",
    "                dfm4_original[col] = (dfm4_original[col].replace(',','.', regex=True))\n",
    "\n",
    "        temp_list = []\n",
    "        for file in file_dict[\"set_09\"][\"%s\"%ki][\"files\"]:\n",
    "            temp_df = pd.read_csv(file,encoding='latin1', sep=\"\\t\")\n",
    "            temp_df=temp_df.drop([0])\n",
    "            for val in temp_df[\"Participant ID\"]:\n",
    "                _id = str(val).strip(\"0\").strip(\".\").split(\"_\")[0]\n",
    "                temp_df.replace(val, _id, inplace=True)\n",
    "            temp_list.append(temp_df)\n",
    "        dfm9_original = pd.concat(temp_list, ignore_index=True)\n",
    "        dfm9_original = dfm9_original.sort_values(by=\"Participant ID\")\n",
    "\n",
    "        concat_filepath = os.path.join(arglist['SAVE'],'%s_dataset4.csv'%(ki))\n",
    "        dfm4_original.to_csv(concat_filepath, index=False, sep=\",\", header=True)\n",
    "\n",
    "        concat_filepath = os.path.join(arglist['SAVE'],'%s_dataset9.csv'%(ki))\n",
    "        dfm9_original.to_csv(concat_filepath, index=False, sep=\",\", header=True)\n",
    "    return(dfm9_original, dfm4_original)\n"
   ]
  },
  {
   "cell_type": "code",
   "execution_count": 9,
   "metadata": {},
   "outputs": [
    {
     "name": "stdout",
     "output_type": "stream",
     "text": [
      "Chil\n",
      "Final dataframe size:  (931, 226)\n"
     ]
    }
   ],
   "source": [
    "b,c=file_reader(arglist, a)"
   ]
  },
  {
   "cell_type": "code",
   "execution_count": 10,
   "metadata": {},
   "outputs": [],
   "source": [
    "def diet_maker(dfm9_original,dfm4_original, ki):\n",
    "    mer = pd.merge(b,c, on=['Participant ID','Date of Intake','Project Abbreviation'])\n",
    "    mer.drop_duplicates(subset=['Participant ID', 'Date of Intake'], inplace=True)\n",
    "    \n",
    "    total_df=mer.dropna(axis=1, how='all')\n",
    "    complete_df=total_df[total_df.columns.intersection(important)].dropna()\n",
    "\n",
    "    concat_filepath = os.path.join(arglist['SAVE'],'%s_BCP_datasetTOTAL.csv'%(ki))\n",
    "    total_df.to_csv(concat_filepath, index=False, sep=\",\", header=True)\n",
    "\n",
    "    concat_filepath = os.path.join(arglist['SAVE'],'%s_BCP_datasetINTEREST.csv'%(ki))\n",
    "    complete_df.to_csv(concat_filepath, index=False, sep=\",\", header=True)\n",
    "    complete_df = complete_df.rename(columns={'Date of Intake': 'Date_taken'})\n",
    "\n",
    "\n",
    "    return(complete_df)"
   ]
  },
  {
   "cell_type": "code",
   "execution_count": 11,
   "metadata": {},
   "outputs": [],
   "source": [
    "def path_finder(arglist):\n",
    "    #read in the data\n",
    "    df1=os.path.join(arglist['BASEPATH'],arglist['SAVE'],arglist['XTRA'])\n",
    "    print(df1)\n",
    "    demo_df=pd.read_csv(df1, sep=',',encoding='latin1')\n",
    "    return(demo_df)"
   ]
  },
  {
   "cell_type": "code",
   "execution_count": 12,
   "metadata": {},
   "outputs": [],
   "source": [
    "e = diet_maker(b,c, 'test')"
   ]
  },
  {
   "cell_type": "code",
   "execution_count": 14,
   "metadata": {},
   "outputs": [],
   "source": [
    "def refactor(infant_df):\n",
    "    infant_df['breastfed']=infant_df['breastfed'].replace({'no': 0, 'yes': 1})\n",
    "    infant_df['any_formula']=infant_df['any_formula'].replace({'no': 0, 'yes': 1,'NaN':'NA'})\n",
    "    infant_df['regular_formula']=infant_df['regular_formula'].replace({'no': 0, 'yes': 1,'NaN':'NA','not_answered':'NA'})\n",
    "    infant_df['age_fed_dropdown']=infant_df['age_fed_dropdown'].replace({'no': 0, 'yes': 1,'NaN':'NA','not_answered':'NA','never_not_yet':0})\n",
    "    infant_df['age_stop_dropdown']=infant_df['age_stop_dropdown'].replace({'no': 0, 'yes': 1,'NaN':'NA','not_answered':'NA','never_not_yet':0})\n",
    "    return(infant_df)"
   ]
  },
  {
   "cell_type": "code",
   "execution_count": 16,
   "metadata": {},
   "outputs": [],
   "source": [
    "def ager(date1,date2):\n",
    "    # Get the age in months of each recall\n",
    "    diff_time = pd.to_datetime(date1)-pd.to_datetime(date2)\n",
    "    diff_time= diff_time/ np.timedelta64(1, 'M')\n",
    "    return(diff_time)"
   ]
  },
  {
   "cell_type": "code",
   "execution_count": 33,
   "metadata": {},
   "outputs": [],
   "source": [
    "def BCP(df, arglist):\n",
    "    \n",
    "\n",
    "    demo_df = path_finder(arglist)\n",
    "    \n",
    "    df['PID']=df['Participant ID'].astype('int32')\n",
    "    demo_df['PID']=demo_df['Participant ID'].astype('int32')\n",
    "    demo_df['DoB']=pd.to_datetime(demo_df['DoB'])\n",
    "    sub_demos = demo_df[['PID','DoB']]\n",
    "    \n",
    "    \n",
    "    diet_df=df\n",
    "    x_df=pd.merge(diet_df,sub_demos, on=['PID'])\n",
    "    \n",
    "    x_df['Date_taken']=pd.to_datetime(x_df['Date_taken'])\n",
    "    demo_df['Date_taken']=pd.to_datetime(demo_df['Date_taken'])\n",
    "\n",
    "    x_df['Age_taken']=ager(x_df['Date_taken'],x_df['DoB'])\n",
    "    \n",
    "    all_data=pd.merge(x_df, demo_df, on=['PID','Age_taken','Date_taken','DoB'])\n",
    "\n",
    "    all_data['Identifiers_visit']=all_data['Identifiers_visit'].astype('int32')\n",
    "    all_data['child_feeding_practice-breastfed']=all_data['child_feeding_practice-breastfed'].astype('category')\n",
    "    return(all_data)"
   ]
  },
  {
   "cell_type": "code",
   "execution_count": 34,
   "metadata": {
    "scrolled": true
   },
   "outputs": [
    {
     "name": "stdout",
     "output_type": "stream",
     "text": [
      "/Users/gracer/Google Drive/BCP/data/derivived/total_demo_dataset.csv\n"
     ]
    }
   ],
   "source": [
    "x=BCP(e, arglist)"
   ]
  },
  {
   "cell_type": "code",
   "execution_count": 35,
   "metadata": {},
   "outputs": [
    {
     "data": {
      "text/plain": [
       "yes    79\n",
       "Name: child_feeding_practice-breastfed, dtype: int64"
      ]
     },
     "execution_count": 35,
     "metadata": {},
     "output_type": "execute_result"
    }
   ],
   "source": [
    "x['child_feeding_practice-breastfed'].value_counts()"
   ]
  },
  {
   "cell_type": "code",
   "execution_count": 36,
   "metadata": {},
   "outputs": [
    {
     "data": {
      "text/plain": [
       "(243, 188)"
      ]
     },
     "execution_count": 36,
     "metadata": {},
     "output_type": "execute_result"
    }
   ],
   "source": [
    "x.shape"
   ]
  },
  {
   "cell_type": "code",
   "execution_count": 20,
   "metadata": {},
   "outputs": [],
   "source": [
    "def cup2oz(cup):\n",
    "    cup=cup.astype('float32')\n",
    "    oz=cup*8\n",
    "    return(oz)"
   ]
  },
  {
   "cell_type": "code",
   "execution_count": 21,
   "metadata": {},
   "outputs": [],
   "source": [
    "def cow_stuff(key, value, data):\n",
    "    x=value[:-1]\n",
    "    tmp= data[x].astype('float32').sum(axis=1)\n",
    "    y=value[-1]\n",
    "    if key == 'hei_dairy':\n",
    "        if y == 'DOT0100':\n",
    "            tmp2=data[y].astype('float32')/3\n",
    "            print(tmp2.head())\n",
    "            print(tmp.dtype)\n",
    "            tmp3=tmp+tmp2\n",
    "            data[key]=HEI.cup2oz(tmp3)\n",
    "        else:\n",
    "            print('NO DAIRY MISSING DOT0100, needs to be last in list')\n",
    "    if key == 'hei_totproteins':\n",
    "        if y == 'VEG0700':\n",
    "            tmp2=data[y].astype('float32')*2 # this is normally 1/2\n",
    "            data[key]=tmp+tmp2\n",
    "        else:\n",
    "            print('NO TOTAL PROTEIN MISSING VEG0700, needs to be last in list')\n",
    "    if key == 'hei_seafoodplantprot':\n",
    "        if y == 'VEG0700':\n",
    "            tmp2=data[y].astype('float32')*2\n",
    "            data[key]=tmp+tmp2\n",
    "        else:\n",
    "            print('NO SEAFOOD AND PLANT PROTEIN MISSING VEG0700, needs to be last in list')\n",
    "    return(data[key])\n"
   ]
  },
  {
   "cell_type": "code",
   "execution_count": 37,
   "metadata": {},
   "outputs": [],
   "source": [
    "# x.to_csv(os.path.join(basepath, 'wtf.csv'), sep=\",\")"
   ]
  },
  {
   "cell_type": "code",
   "execution_count": 24,
   "metadata": {},
   "outputs": [],
   "source": [
    "def make_ped_components(hei_ped_dict, complete_df, conv_dict):\n",
    "    for key, value in hei_ped_dict.items():\n",
    "#         print(key)\n",
    "#         print(value)\n",
    "        for item in value:\n",
    "#             print(item)\n",
    "            complete_df[item]=complete_df[item].astype('float32')\n",
    "#             print(complete_df[item])\n",
    "        if key in ['hei_fruitjuice', 'hei_SSB','formula_foz']:\n",
    "            complete_df[key]=HEI.to_fluid(key, value, conv_dict[key], complete_df)\n",
    "        if key in ['hei_totveg','hei_greensbeans', 'hei_wholefruit','hei_totfruit']:\n",
    "            complete_df[key]=HEI.to_ounce(key, value, complete_df)\n",
    "        if key in ['cereal_oz', 'bbcereal_hcup']:\n",
    "            if key == 'bbcereal_hcup':\n",
    "                HEI.from_cup(key,value, conv_dict[key] , complete_df)\n",
    "            else:\n",
    "                x=value\n",
    "                complete_df[key]= complete_df[x].astype('float').sum(axis=1)\n",
    "        if key in ['hei_wholegrains','hei_refinedgrains']:\n",
    "            complete_df[key] = complete_df[value].astype('float')\n",
    "        if key in ['hei_dairy','hei_totproteins','hei_seafoodplantprot']:\n",
    "            complete_df[key]=cow_stuff(key, value, complete_df)\n",
    "        if key in ['chocolate_candies', 'candies', 'frosting', 'sugar','nondairy_treat','baked_good', 'fries']:\n",
    "            complete_df[key]=HEI.grammar(key, value, conv_dict[key], complete_df)\n",
    "        if key in ['sweet_sauce']:\n",
    "            x=value\n",
    "            complete_df[key]= HEI.T2oz(complete_df[x].astype('float').sum(axis=1))\n",
    "        if key in ['syrups','Pudding','icecream']:\n",
    "            HEI.from_cup(key, value, conv_dict[key], complete_df)\n",
    "        if key in ['chips','other_fried']:\n",
    "            x=value\n",
    "            complete_df[key]= complete_df[x].astype('float').sum(axis=1)\n",
    "    return(complete_df)"
   ]
  },
  {
   "cell_type": "code",
   "execution_count": 38,
   "metadata": {
    "scrolled": true
   },
   "outputs": [
    {
     "name": "stdout",
     "output_type": "stream",
     "text": [
      "VEG0100\n",
      "VEG0200\n",
      "VEG0300\n",
      "VEG0400\n",
      "VEG0800\n",
      "VEG0450\n",
      "VEG0700\n",
      "VEG0600\n",
      "VEG0900\n",
      "VEG0500\n",
      "VEG0100\n",
      "VEG0700\n",
      "FRU0100\n",
      "FRU0200\n",
      "FRU0300\n",
      "FRU0400\n",
      "FRU0500\n",
      "FRU0600\n",
      "FRU0700\n",
      "FRU0300\n",
      "FRU0400\n",
      "FRU0500\n",
      "FRU0600\n",
      "FRU0700\n",
      "Whole Grains (ounce equivalents)\n",
      "DMF0100\n",
      "DMR0100\n",
      "DML0100\n",
      "DMN0100\n",
      "DMF0200\n",
      "DMR0200\n",
      "DML0200\n",
      "DML0300\n",
      "DML0400\n",
      "DCF0100\n",
      "DCR0100\n",
      "DCL0100\n",
      "DCN0100\n",
      "DYF0100\n",
      "DYR0100\n",
      "DYL0100\n",
      "DYF0200\n",
      "DYR0200\n",
      "DYL0200\n",
      "DYN0100\n",
      "DOT0300\n",
      "DOT0400\n",
      "DOT0500\n",
      "DOT0600\n",
      "DOT0100\n",
      "0    0.0\n",
      "1    0.0\n",
      "2    0.0\n",
      "3    0.0\n",
      "4    0.0\n",
      "Name: DOT0100, dtype: float32\n",
      "float32\n",
      "MRF0100\n",
      "MRL0100\n",
      "MRF0200\n",
      "MRL0200\n",
      "MRF0300\n",
      "MRL0300\n",
      "MRF0400\n",
      "MRL0400\n",
      "MCF0200\n",
      "MCL0200\n",
      "MRF0500\n",
      "MPF0100\n",
      "MPL0100\n",
      "MPF0200\n",
      "MFF0100\n",
      "MFL0100\n",
      "MFF0200\n",
      "MSL0100\n",
      "MSF0100\n",
      "MCF0100\n",
      "MCL0100\n",
      "MOF0100\n",
      "MOF0200\n",
      "MOF0300\n",
      "MOF0400\n",
      "MOF0500\n",
      "MOF0600\n",
      "MOF0700\n",
      "VEG0700\n",
      "MFF0100\n",
      "MFL0100\n",
      "MFF0200\n",
      "MSL0100\n",
      "MSF0100\n",
      "MOF0500\n",
      "MOF0600\n",
      "MOF0700\n",
      "VEG0700\n",
      "Refined Grains (ounce equivalents)\n",
      "Energy (kcal)\n",
      "FRU0100\n",
      "FRU0200\n",
      "DMF0200\n",
      "DMR0200\n",
      "DML0200\n",
      "DML0300\n",
      "SWT0600\n",
      "BVS0400\n",
      "BVS0300\n",
      "BVS0500\n",
      "BVS0100\n",
      "BVS0200\n",
      "BVS0600\n",
      "BVS0700\n",
      "SWT0600\n",
      "SWT0100\n",
      "SWT0200\n",
      "SWT0300\n",
      "SWT0700\n",
      "SWT0800\n",
      "SWT0400\n",
      "SWT0500\n",
      "DOT0300\n",
      "DOT0400\n",
      "DOT0100\n",
      "DOT0200\n",
      "GRR0800\n",
      "GRS0800\n",
      "GRW0800\n",
      "GRW0900\n",
      "GRS0900\n",
      "GRR0900\n",
      "GRW1100\n",
      "GRW1200\n",
      "GRW0400\n",
      "GRS0400\n",
      "GRR0400\n",
      "VEG0800\n",
      "FMC0100\n",
      "FMC0200\n",
      "DMF0100\n",
      "DMR0100\n",
      "DML0100\n",
      "DMN0100\n",
      "DMF0200\n",
      "DMR0200\n",
      "DML0200\n",
      "DOT0500\n",
      "DOT0600\n",
      "DOT0700\n",
      "DOT0800\n",
      "GRW0600\n",
      "GRS0600\n",
      "GRR0600\n",
      "GRW0700\n",
      "GRS0700\n",
      "GRR0700\n",
      "GRW1300\n",
      "GRS1300\n"
     ]
    }
   ],
   "source": [
    "y=make_ped_components(hei_ped_dict, x, conv_dict)"
   ]
  },
  {
   "cell_type": "code",
   "execution_count": 39,
   "metadata": {},
   "outputs": [
    {
     "name": "stdout",
     "output_type": "stream",
     "text": [
      "START\n",
      "{'hei_sweets': ['chocolate_candies', 'candies', 'frosting', 'sweet_sauce', 'sugar', 'syrups', 'Pudding', 'icecream', 'nondairy_treat', 'baked_good'], 'hei_salty': ['chips', 'other_fried', 'fries'], 'hei_vegetables': ['hei_totveg', 'hei_greensbeans'], 'hei_proteins': ['hei_totproteins', 'hei_seafoodplantprot'], 'hei_milk': ['hei_dairy', 'formula_foz'], 'hei_cereal': ['cereal_oz', 'bbcereal_hcup']}\n"
     ]
    }
   ],
   "source": [
    "que=HEI.make_hei(y, make_hei_dict)\n"
   ]
  },
  {
   "cell_type": "code",
   "execution_count": 40,
   "metadata": {},
   "outputs": [],
   "source": [
    "def splitter(DF):\n",
    "    DF_child=DF.query('Age_taken >= 12 & Identifiers_visit >= 12')\n",
    "    \n",
    "    DF_young=DF.query('Age_taken < 12 & Identifiers_visit < 12 and Age_taken >= 8 & Identifiers_visit >= 8')\n",
    "                      \n",
    "    DF_infant=DF.query('Age_taken < 8 & Identifiers_visit < 8')\n",
    "    df={'DF_child':DF_child, 'DF_young':DF_young, 'DF_infant':DF_infant}\n",
    "    return(df)"
   ]
  },
  {
   "cell_type": "code",
   "execution_count": 41,
   "metadata": {},
   "outputs": [],
   "source": [
    "split_dict=splitter(que)"
   ]
  },
  {
   "cell_type": "code",
   "execution_count": 43,
   "metadata": {},
   "outputs": [
    {
     "data": {
      "text/plain": [
       "count    90.000000\n",
       "mean     10.283579\n",
       "std       0.692628\n",
       "min       8.673689\n",
       "25%       9.757901\n",
       "50%      10.382143\n",
       "75%      11.006386\n",
       "max      11.630629\n",
       "Name: Age_taken, dtype: float64"
      ]
     },
     "execution_count": 43,
     "metadata": {},
     "output_type": "execute_result"
    }
   ],
   "source": [
    "split_dict['DF_young']['Age_taken'].describe()"
   ]
  },
  {
   "cell_type": "code",
   "execution_count": 44,
   "metadata": {},
   "outputs": [
    {
     "data": {
      "text/plain": [
       "yes    24\n",
       "Name: child_feeding_practice-any_formula, dtype: int64"
      ]
     },
     "execution_count": 44,
     "metadata": {},
     "output_type": "execute_result"
    }
   ],
   "source": [
    "split_dict['DF_infant']['child_feeding_practice-any_formula'].value_counts()"
   ]
  },
  {
   "cell_type": "code",
   "execution_count": 45,
   "metadata": {},
   "outputs": [
    {
     "data": {
      "text/plain": [
       "(66, 221)"
      ]
     },
     "execution_count": 45,
     "metadata": {},
     "output_type": "execute_result"
    }
   ],
   "source": [
    "split_dict['DF_infant'].shape"
   ]
  },
  {
   "cell_type": "code",
   "execution_count": 47,
   "metadata": {},
   "outputs": [],
   "source": [
    "split_dict['DF_infant']['child_feeding_practice-any_formula']=split_dict['DF_infant']['child_feeding_practice-any_formula'].astype('category')\n",
    "split_dict['DF_infant']['child_feeding_practice-breastfed']=split_dict['DF_infant']['child_feeding_practice-breastfed'].astype('category')"
   ]
  },
  {
   "cell_type": "code",
   "execution_count": 48,
   "metadata": {},
   "outputs": [],
   "source": [
    "def DQI_BF(df, output, age_group):\n",
    "    if age_group == 'infant':\n",
    "        df[output]=[15 if row['child_feeding_practice-breastfed'] == 'yes' and row['child_feeding_practice-any_formula'] != 'yes' else 10 if row['child_feeding_practice-breastfed'] == 'yes' and row['child_feeding_practice-any_formula'] == 'yes'else 5 if row['child_feeding_practice-breastfed'] == 'no' else 'NA' for index, row in df.iterrows()]\n",
    "    else:\n",
    "        df[output]=[10 if row['child_feeding_practice-age_stop_dropdown'] != 'yes' and row['child_feeding_practice-breastfed'] == 'yes' else 0 for index, row in df.iterrows()]\n",
    "        \n",
    "        \n",
    "        \n",
    "        "
   ]
  },
  {
   "cell_type": "code",
   "execution_count": 49,
   "metadata": {},
   "outputs": [],
   "source": [
    "DQI_BF(split_dict['DF_infant'], 'HEIX0_BREASTFEEDING', 'infant')"
   ]
  },
  {
   "cell_type": "code",
   "execution_count": 50,
   "metadata": {},
   "outputs": [
    {
     "data": {
      "text/plain": [
       "NA    42\n",
       "10    24\n",
       "Name: HEIX0_BREASTFEEDING, dtype: int64"
      ]
     },
     "execution_count": 50,
     "metadata": {},
     "output_type": "execute_result"
    }
   ],
   "source": [
    "split_dict['DF_infant']['HEIX0_BREASTFEEDING'].value_counts()"
   ]
  },
  {
   "cell_type": "code",
   "execution_count": 51,
   "metadata": {},
   "outputs": [],
   "source": [
    "DQI_BF(split_dict['DF_child'], 'HEIX0_BREASTFEEDING', 'child')"
   ]
  },
  {
   "cell_type": "code",
   "execution_count": 52,
   "metadata": {},
   "outputs": [
    {
     "data": {
      "text/plain": [
       "0     72\n",
       "10    10\n",
       "Name: HEIX0_BREASTFEEDING, dtype: int64"
      ]
     },
     "execution_count": 52,
     "metadata": {},
     "output_type": "execute_result"
    }
   ],
   "source": [
    "split_dict['DF_child']['HEIX0_BREASTFEEDING'].value_counts()"
   ]
  },
  {
   "cell_type": "code",
   "execution_count": 53,
   "metadata": {},
   "outputs": [],
   "source": [
    "DQI_BF(split_dict['DF_young'], 'HEIX0_BREASTFEEDING', 'young')"
   ]
  },
  {
   "cell_type": "code",
   "execution_count": 54,
   "metadata": {},
   "outputs": [
    {
     "data": {
      "text/plain": [
       "10    45\n",
       "0     45\n",
       "Name: HEIX0_BREASTFEEDING, dtype: int64"
      ]
     },
     "execution_count": 54,
     "metadata": {},
     "output_type": "execute_result"
    }
   ],
   "source": [
    "split_dict['DF_young']['HEIX0_BREASTFEEDING'].value_counts()"
   ]
  },
  {
   "cell_type": "markdown",
   "metadata": {},
   "source": [
    "## Important Feeding stuff\n",
    "* DoB\n",
    "* Started Any Formula (Months old) NA - No Formula\n",
    "* Started Regular (in months)\n",
    "* Ended Formula (months old) NA - No Formula\n",
    "* Started Solids (months old)\n",
    "* Ended breastmilk (months old)\n",
    "* Feeding Practice (First 4 months)\n",
    "* child_feeding_practice-age_any_formula\n",
    "* child_feeding_practice-age_fed\n",
    "* child_feeding_practice-age_fed_dropdown\n",
    "* child_feeding_practice-age_fed_status\n",
    "* child_feeding_practice-age_regular_formula\n",
    "* child_feeding_practice-age_regular_formula_status\n",
    "* child_feeding_practice-age_stop\n",
    "* child_feeding_practice-age_stop_dropdown\n",
    "* child_feeding_practice-age_stop_formula\n",
    "* child_feeding_practice-age_stop_formula_dropdown\n",
    "* child_feeding_practice-age_stop_formula_status\n",
    "* child_feeding_practice-age_stop_status\n",
    "* child_feeding_practice-any_formula\n",
    "* child_feeding_practice-breastfed\n",
    "* child_feeding_practice-regular_formula\n",
    "* Date_taken\n",
    "* Date of Intake"
   ]
  },
  {
   "cell_type": "code",
   "execution_count": 55,
   "metadata": {},
   "outputs": [],
   "source": [
    "def DQI(df, inputt, output, parameter):\n",
    "    if inputt in ['hei_salty','hei_sweets','hei_SSB','hei_fruitjuice']:\n",
    "        print('now calculating %s'%output)\n",
    "        temp=df[inputt]\n",
    "        MIN=parameter[0]\n",
    "        MAX=parameter[1]\n",
    "        df[output]=[2.5 if MIN < x <= MAX else 0 if x > MAX else 5 for x in temp]\n",
    "    # No limit\n",
    "    elif inputt in ['hei_vegetables', 'hei_totfruit']:\n",
    "        print('now calculating %s'%output)\n",
    "        temp=df[inputt]\n",
    "        MIN=parameter[0]\n",
    "        MAX=parameter[1]\n",
    "        df[output]=[2.5 if MIN < x <= MAX else 0 if x == MIN else 5 for x in temp]\n",
    "    # Upper limit\n",
    "    elif inputt in ['hei_milk','hei_proteins']:\n",
    "        print('now calculating %s'%output)\n",
    "        temp=df[inputt]\n",
    "        FARMIN = parameter[0]\n",
    "        FARMAX = parameter[1]\n",
    "        MIN = parameter[2]\n",
    "        MAX = parameter[3]\n",
    "        df[output]=[5 if MIN < x <= MAX else 2.5 if MIN < x <= FARMIN or MAX < x <=FARMAX else 0 for x in temp]\n",
    "    elif inputt in ['hei_wholegrains']:\n",
    "        print('now calculating %s'%output)\n",
    "        temp=df[inputt]\n",
    "        FARMIN = parameter[0]\n",
    "        FARMAX = parameter[1]\n",
    "        MIN = parameter[2]\n",
    "        MAX = parameter[3]\n",
    "        df[output]=[2.5 if MIN < x <= MAX else 1.5 if MIN < x <= FARMIN or MAX < x <=FARMAX else 0 for x in temp]\n",
    "    elif inputt in ['hei_refinedgrains']:\n",
    "        print('now calculating %s'%output)\n",
    "        temp=df[inputt]\n",
    "        MIN=parameter[0]\n",
    "        MAX=parameter[1]\n",
    "        df[output]=[1.5 if MIN < x <= MAX else 0 if x > MAX else 2.5 for x in temp]\n",
    "    return(df)"
   ]
  },
  {
   "cell_type": "code",
   "execution_count": 56,
   "metadata": {},
   "outputs": [],
   "source": [
    "def infant_DQI(df, inputt, output, parameter):\n",
    "    #inputt, output, parameter\n",
    "    MIN=0\n",
    "    if inputt in ['hei_salty','hei_sweets','hei_SSB','hei_fruitjuice','hei_refinedgrains','hei_vegetables', 'hei_totfruit',\n",
    "    'hei_wholegrains','hei_dairy','hei_proteins', 'hei_cereal']:\n",
    "        print('now calculating infant %s'%output)\n",
    "        temp=df[inputt]\n",
    "        df[output]=[5 if x == MIN else 0 for x in temp]\n",
    "    return(df)"
   ]
  },
  {
   "cell_type": "code",
   "execution_count": 60,
   "metadata": {},
   "outputs": [],
   "source": [
    "def check(dic, data, name, option, arglist):\n",
    "    if arglist['CHILD'] == False:\n",
    "        df=data\n",
    "        toSum=['HEIX1_TOTALVEG','HEIX2_GREEN_AND_BEAN' , 'HEIX3_TOTALFRUIT' , 'HEIX4_WHOLEFRUIT' ,\n",
    "               'HEIX5_WHOLEGRAIN' , 'HEIX6_TOTALDAIRY' , 'HEIX7_TOTPROT' , 'HEIX8_SEAPLANT_PROT' , 'HEIX9_FATTYACID' ,\n",
    "               'HEIX10_SODIUM' , 'HEIX11_REFINEDGRAIN' , 'HEIX12_ADDEDSUGARS' , 'HEIX13_SATFATS']\n",
    "        for key,values in dic.items():\n",
    "            print('Calculating score for %s'%key)\n",
    "            if key in ['hei_totveg','hei_greensbeans', 'hei_totfruit', 'hei_wholefruit', 'hei_totproteins', 'hei_seafoodplantprot',\n",
    "                        'hei_wholegrains', 'hei_dairy','Fats']:\n",
    "                if key == 'Fats':\n",
    "                    adeq_check(df, key, values['name'], values['parameters'])\n",
    "                else:\n",
    "                    adeq_check(df, key, values['name'], values['parameters'][0])\n",
    "            if key in ['hei_sodium','hei_refinedgrains','hei_addedsugars','hei_SFA']:\n",
    "                mod_check(df, key, values['name'], values['parameters'])\n",
    "        df['HEI2015_TOTAL_SCORE']=df[df.columns.intersection(toSum)].sum(axis=1)\n",
    "        concat_filepath = os.path.join(arglist['SAVE'],'%s_%s_HEI.csv'%(option, name))\n",
    "        df.to_csv(concat_filepath, index=False, sep=\",\", header=True)\n",
    "    else:\n",
    "        df=data\n",
    "        for key,values in dic.items():\n",
    "            if key in ['hei_vegetables','hei_totfruit','hei_wholegrains','hei_dairy','hei_milk','hei_proteins','hei_refinedgrains',\n",
    "            'hei_fruitjuice','hei_SSB','hei_sweets','hei_salty','hei_cereal']:\n",
    "                print('Calculating score for %s'%key)\n",
    "                if name != 'infant':\n",
    "                    toSum=['HEIX0_BREASTFEEDING','HEIX1_VEGETABLES','HEIX2_TOTALFRUIT' , 'HEIX3_WHOLEGRAIN' , 'HEIX4_TOTALDAIRY' ,\n",
    "                           'HEIX5_PROTEIN' , 'HEIX6_REFINEDGRAIN' , 'HEIX7_FRUITJUICE' , 'HEIX8_SSB', 'HEIX9_SWEETS',\n",
    "                           'HEIX10_SALTY']\n",
    "                    DQI(df,key, values['name'], values['parameters'])\n",
    "                    df['HEI2015_TOTAL_SCORE']=df[df.columns.intersection(toSum)].sum(axis=1)\n",
    "                    concat_filepath = os.path.join(arglist['SAVE'],'%s_%s_HEI.csv'%(option, name))\n",
    "                    df=df.drop_duplicates(subset=['Visit_label', 'PID','Date_taken'])\n",
    "                    df.to_csv(concat_filepath, index=False, sep=\",\", header=True)\n",
    "                else:\n",
    "                    toSum=['HEIX0_BREASTFEEDING','HEIX1_VEGETABLES','HEIX2_TOTALFRUIT'  ,\n",
    "                           'HEIX5_PROTEIN' ,  'HEIX7_FRUITJUICE' , 'HEIX8_SSB', 'HEIX9_SWEETS',\n",
    "                           'HEIX10_SALTY', 'HEIX11_CEREAL']\n",
    "                    infant_DQI(df,key, values['name'], values['parameters'])\n",
    "                    df['HEI2015_TOTAL_SCORE']=df[df.columns.intersection(toSum)].sum(axis=1)\n",
    "                    concat_filepath = os.path.join(arglist['SAVE'],'%s_%s_HEI.csv'%(option, name))\n",
    "                    df=df.drop_duplicates(subset=['Visit_label', 'PID','Date_taken'])\n",
    "                    df.to_csv(concat_filepath, index=False, sep=\",\", header=True)"
   ]
  },
  {
   "cell_type": "code",
   "execution_count": 61,
   "metadata": {
    "scrolled": true
   },
   "outputs": [
    {
     "name": "stdout",
     "output_type": "stream",
     "text": [
      "Calculating score for hei_vegetables\n",
      "now calculating HEIX1_VEGETABLES\n",
      "Calculating score for hei_totfruit\n",
      "now calculating HEIX2_TOTALFRUIT\n",
      "Calculating score for hei_wholegrains\n",
      "now calculating HEIX3_WHOLEGRAIN\n",
      "Calculating score for hei_milk\n",
      "now calculating HEIX4_TOTALDAIRY\n",
      "Calculating score for hei_proteins\n",
      "now calculating HEIX5_PROTEIN\n",
      "Calculating score for hei_refinedgrains\n",
      "now calculating HEIX6_REFINEDGRAIN\n",
      "Calculating score for hei_fruitjuice\n",
      "now calculating HEIX7_FRUITJUICE\n",
      "Calculating score for hei_SSB\n",
      "now calculating HEIX8_SSB\n",
      "Calculating score for hei_sweets\n",
      "now calculating HEIX9_SWEETS\n",
      "Calculating score for hei_salty\n",
      "now calculating HEIX10_SALTY\n",
      "Calculating score for hei_vegetables\n",
      "now calculating HEIX1_VEGETABLES\n",
      "Calculating score for hei_totfruit\n",
      "now calculating HEIX2_TOTALFRUIT\n",
      "Calculating score for hei_wholegrains\n",
      "now calculating HEIX3_WHOLEGRAIN\n",
      "Calculating score for hei_milk\n",
      "now calculating HEIX4_TOTALDAIRY\n",
      "Calculating score for hei_proteins\n",
      "now calculating HEIX5_PROTEIN\n",
      "Calculating score for hei_refinedgrains\n",
      "now calculating HEIX6_REFINEDGRAIN\n",
      "Calculating score for hei_fruitjuice\n",
      "now calculating HEIX7_FRUITJUICE\n",
      "Calculating score for hei_SSB\n",
      "now calculating HEIX8_SSB\n",
      "Calculating score for hei_sweets\n",
      "now calculating HEIX9_SWEETS\n",
      "Calculating score for hei_salty\n",
      "now calculating HEIX10_SALTY\n",
      "Calculating score for hei_vegetables\n",
      "now calculating infant HEIX1_VEGETABLES\n",
      "Calculating score for hei_totfruit\n",
      "now calculating infant HEIX2_TOTALFRUIT\n",
      "Calculating score for hei_wholegrains\n",
      "now calculating infant HEIX3_WHOLEGRAIN\n",
      "Calculating score for hei_dairy\n",
      "now calculating infant HEIX4_TOTALDAIRY\n",
      "Calculating score for hei_proteins\n",
      "now calculating infant HEIX5_PROTEIN\n",
      "Calculating score for hei_refinedgrains\n",
      "now calculating infant HEIX6_REFINEDGRAIN\n",
      "Calculating score for hei_fruitjuice\n",
      "now calculating infant HEIX7_FRUITJUICE\n",
      "Calculating score for hei_SSB\n",
      "now calculating infant HEIX8_SSB\n",
      "Calculating score for hei_sweets\n",
      "now calculating infant HEIX9_SWEETS\n",
      "Calculating score for hei_salty\n",
      "now calculating infant HEIX10_SALTY\n",
      "Calculating score for hei_cereal\n",
      "now calculating infant HEIX11_CEREAL\n"
     ]
    }
   ],
   "source": [
    "for key, value in split_dict.items():\n",
    "    if key == 'DF_child':\n",
    "        DQI_BF(value, 'HEIX0_BREASTFEEDING', 'child')\n",
    "        check(ped_dict['child'], value, 'child', key, arglist)\n",
    "    elif key == 'DF_young':\n",
    "        DQI_BF(value, 'HEIX0_BREASTFEEDING', 'young')\n",
    "        check(ped_dict['young'], value, 'young', key, arglist)\n",
    "    else:\n",
    "        DQI_BF(value, 'HEIX0_BREASTFEEDING', 'infant')\n",
    "        check(ped_dict['infant'], value, 'infant', key, arglist)"
   ]
  },
  {
   "cell_type": "code",
   "execution_count": 62,
   "metadata": {},
   "outputs": [
    {
     "data": {
      "text/plain": [
       "count    90.000000\n",
       "mean      9.861111\n",
       "std       5.143463\n",
       "min       2.500000\n",
       "25%       5.000000\n",
       "50%       8.750000\n",
       "75%      15.000000\n",
       "max      15.000000\n",
       "Name: HEI2015_TOTAL_SCORE, dtype: float64"
      ]
     },
     "execution_count": 62,
     "metadata": {},
     "output_type": "execute_result"
    }
   ],
   "source": [
    "split_dict['DF_young']['HEI2015_TOTAL_SCORE'].describe()"
   ]
  },
  {
   "cell_type": "code",
   "execution_count": 63,
   "metadata": {},
   "outputs": [
    {
     "data": {
      "text/plain": [
       "count    66.000000\n",
       "mean      3.939394\n",
       "std       2.059715\n",
       "min       0.000000\n",
       "25%       5.000000\n",
       "50%       5.000000\n",
       "75%       5.000000\n",
       "max       5.000000\n",
       "Name: HEI2015_TOTAL_SCORE, dtype: float64"
      ]
     },
     "execution_count": 63,
     "metadata": {},
     "output_type": "execute_result"
    }
   ],
   "source": [
    "split_dict['DF_infant']['HEI2015_TOTAL_SCORE'].describe()"
   ]
  },
  {
   "cell_type": "code",
   "execution_count": 66,
   "metadata": {},
   "outputs": [
    {
     "data": {
      "text/plain": [
       "count    82.000000\n",
       "mean      4.237805\n",
       "std       3.615148\n",
       "min       2.500000\n",
       "25%       2.500000\n",
       "50%       2.500000\n",
       "75%       5.000000\n",
       "max      15.000000\n",
       "Name: HEI2015_TOTAL_SCORE, dtype: float64"
      ]
     },
     "execution_count": 66,
     "metadata": {},
     "output_type": "execute_result"
    }
   ],
   "source": [
    "split_dict['DF_child']['HEI2015_TOTAL_SCORE'].describe()"
   ]
  },
  {
   "cell_type": "code",
   "execution_count": null,
   "metadata": {},
   "outputs": [],
   "source": []
  }
 ],
 "metadata": {
  "kernelspec": {
   "display_name": "Python 3",
   "language": "python",
   "name": "python3"
  },
  "language_info": {
   "codemirror_mode": {
    "name": "ipython",
    "version": 3
   },
   "file_extension": ".py",
   "mimetype": "text/x-python",
   "name": "python",
   "nbconvert_exporter": "python",
   "pygments_lexer": "ipython3",
   "version": "3.6.5"
  }
 },
 "nbformat": 4,
 "nbformat_minor": 2
}

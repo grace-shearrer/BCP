{
 "cells": [
  {
   "cell_type": "code",
   "execution_count": 1,
   "metadata": {},
   "outputs": [],
   "source": [
    "import os, glob\n",
    "import numpy as np\n",
    "import pandas as pd\n",
    "import warnings\n",
    "warnings.filterwarnings('ignore')\n",
    "from zipfile import ZipFile\n",
    "import argparse\n",
    "import pdb\n",
    "import HEI\n",
    "import sys"
   ]
  },
  {
   "cell_type": "markdown",
   "metadata": {},
   "source": [
    "# Dictionaries and lists"
   ]
  },
  {
   "cell_type": "code",
   "execution_count": 2,
   "metadata": {},
   "outputs": [],
   "source": [
    "important=['Participant ID','VEG0100','VEG0200','VEG0300','VEG0400','VEG0800','VEG0450','VEG0700',\n",
    "       'VEG0600','VEG0900','VEG0500','VEG0100','VEG0700','FRU0100','FRU0200','FRU0300','FRU0400',\n",
    "       'FRU0500','FRU0600','FRU0700','FRU0300','FRU0400','FRU0500','FRU0600','FRU0700',\n",
    "       'Whole Grains (ounce equivalents)','DMF0100','DMR0100','DML0100','DMN0100','DMF0200',\n",
    "       'DMR0200','DML0200','DML0300','DML0400','DCF0100','DCR0100','DCL0100','DCN0100','DYF0100',\n",
    "       'DYR0100','DYL0100','DYF0200','DYR0200','DYL0200','DYN0100','DOT0300','DOT0400','DOT0500',\n",
    "       'DOT0600','DOT0100','MRF0100','MRL0100','MRF0200','MRL0200','MRF0300','MRL0300','MRF0400',\n",
    "       'MRL0400','MCF0200','MCL0200','MRF0500','MPF0100','MPL0100','MPF0200','MFF0100','MFL0100',\n",
    "       'MFF0200','MSL0100','MSF0100','MCF0100','MCL0100','MOF0100','MOF0200','MOF0300','MOF0400',\n",
    "       'MOF0500','MOF0600','MOF0700','VEG0700','MFF0100','MFL0100','MFF0200','MSL0100','MSF0100',\n",
    "       'MOF0500','MOF0600','MOF0700','VEG0700','Sodium (mg)','Refined Grains (ounce equivalents)',\n",
    "       'Added Sugars (by Total Sugars) (g)','% Calories from SFA','Energy (kcal)',\n",
    "       'Total Polyunsaturated Fatty Acids (PUFA) (g)','Total Monounsaturated Fatty Acids (MUFA) (g)',\n",
    "       'Total Saturated Fatty Acids (SFA) (g)','FRU0100','FRU0200','DMF0200','DMR0200','DML0200','DML0300',\n",
    "       'SWT0600','BVS0400','BVS0300','BVS0500','BVS0100','BVS0200','BVS0600','BVS0700', 'SWT0600','SWT0100',\n",
    "       'SWT0200','SWT0300','SWT0700' , 'SWT0800','SWT0400','SWT0500','DOT0300' , 'DOT0400',\n",
    "       'DOT0100','DOT0200','GRR0800' , 'GRS0800',  'GRW0800','GRW0900' ,'GRS0900' , 'GRR0900' ,\n",
    "       'GRW1100' , 'GRW1200', 'GRW0400' ,'GRS0400' ,'GRR0400','VEG0800','FMC0100', 'FMC0200','DMF0100',\n",
    "       'DMR0100','DML0100','DMN0100' ,'DMF0200','DMR0200','DML0200','DOT0500', 'DOT0600','DOT0700',\n",
    "       'DOT0800','GRW0600','GRS0600','GRR0600','GRW0700','GRS0700','GRR0700','GRW1300','GRS1300']\n",
    "\n",
    "para_dict = {\n",
    "        'hei_totveg': {'parameters':[1.1], 'name': 'HEIX1_TOTALVEG'},\n",
    "        'hei_greensbeans': {'parameters':[0.2], 'name': 'HEIX2_GREEN_AND_BEAN'},\n",
    "        'hei_totfruit': {'parameters':[0.8], 'name': 'HEIX3_TOTALFRUIT'},\n",
    "        'hei_wholefruit': {'parameters':[0.4], 'name': 'HEIX4_WHOLEFRUIT'},\n",
    "        'hei_wholegrains': {'parameters':[1.5], 'name': 'HEIX5_WHOLEGRAIN'},\n",
    "        'hei_dairy': {'parameters':[1.3], 'name': 'HEIX6_TOTALDAIRY'},\n",
    "        'hei_totproteins': {'parameters':[2.5], 'name': 'HEIX7_TOTPROT'},\n",
    "        'hei_seafoodplantprot': {'parameters':[0.8], 'name': 'HEIX8_SEAPLANT_PROT'},\n",
    "        'hei_refinedgrains': {'parameters':[1.8,4.3], 'name': 'HEIX11_REFINEDGRAIN'},\n",
    "        'hei_addedsugars': {'parameters':[6.5,26], 'name': 'HEIX12_ADDEDSUGARS'},\n",
    "        'hei_SFA': {'parameters':[8,16], 'name': 'HEIX13_SATFATS'},\n",
    "        'Fats': {'parameters':[1.2,2.5], 'name': 'HEIX9_FATTYACID'},\n",
    "        'hei_sodium':{'parameters':[1.1,2.0],'name':'HEIX10_SODIUM'}\n",
    "        }\n",
    "\n",
    "ped811_dict = {\n",
    "    'hei_vegetables': {'parameters':[0.1,1.9], 'name': 'HEIX1_VEGETABLES'},\n",
    "    'hei_totfruit': {'parameters':[0.1,1.9], 'name': 'HEIX2_TOTALFRUIT'},\n",
    "    'hei_wholegrains': {'parameters':[1.0,3.5,0.0 , 8.0], 'name': 'HEIX3_WHOLEGRAIN'},\n",
    "    'hei_milk': {'parameters':[20,28,8,35], 'name': 'HEIX4_TOTALDAIRY'},\n",
    "    'hei_proteins': {'parameters':[2.5,6.0,0,10.0], 'name': 'HEIX5_PROTEIN'},\n",
    "    'hei_refinedgrains': {'parameters':[1.6,3.5], 'name': 'HEIX6_REFINEDGRAIN'},\n",
    "    'hei_fruitjuice': {'parameters':[0.1,6.0], 'name': 'HEIX7_FRUITJUICE'},\n",
    "    'hei_SSB': {'parameters':[0.1,4.0], 'name': 'HEIX8_SSB'},\n",
    "    'hei_sweets': {'parameters':[0.1,1.0], 'name': 'HEIX9_SWEETS'},\n",
    "    'hei_salty': {'parameters':[0.1,1.0], 'name': 'HEIX10_SALTY'}\n",
    "        }\n",
    "\n",
    "ped1224_dict ={\n",
    "    'hei_vegetables': {'parameters':[0.1,7.9], 'name': 'HEIX1_VEGETABLES'},\n",
    "    'hei_totfruit': {'parameters':[0.1,7.9], 'name': 'HEIX2_TOTALFRUIT'},\n",
    "    'hei_wholegrains': {'parameters':[1.5, 5.5, 0, 8.0], 'name': 'HEIX3_WHOLEGRAIN'},\n",
    "    'hei_milk': {'parameters':[14.0,18.0,8.0,24.0], 'name': 'HEIX4_TOTALDAIRY'},\n",
    "    'hei_proteins': {'parameters':[2.0,3.0,0,6.0], 'name': 'HEIX5_PROTEIN'},\n",
    "    'hei_refinedgrains': {'parameters':[1.9, 4.2], 'name': 'HEIX6_REFINEDGRAIN'},\n",
    "    'hei_fruitjuice': {'parameters':[4.1,6.0], 'name': 'HEIX7_FRUITJUICE'},\n",
    "    'hei_SSB': {'parameters':[0.1,4.0], 'name': 'HEIX8_SSB'},\n",
    "    'hei_sweets': {'parameters':[0.1,1.0], 'name': 'HEIX9_SWEETS'},\n",
    "    'hei_salty': {'parameters':[0.1,1.0], 'name': 'HEIX10_SALTY'}\n",
    "        }\n",
    "\n",
    "ped08_dict = {\n",
    "    'hei_vegetables': {'parameters':[0,0], 'name': 'HEIX1_VEGETABLES'},\n",
    "    'hei_totfruit': {'parameters':[0,0], 'name': 'HEIX2_TOTALFRUIT'},\n",
    "    'hei_wholegrains': {'parameters':[0,0,0,0], 'name': 'HEIX3_WHOLEGRAIN'},\n",
    "    'hei_dairy': {'parameters':[0,0,0,0], 'name': 'HEIX4_TOTALDAIRY'},\n",
    "    'hei_proteins': {'parameters':[0,0,0,0], 'name': 'HEIX5_PROTEIN'},\n",
    "    'hei_refinedgrains': {'parameters':[0,0], 'name': 'HEIX6_REFINEDGRAIN'},\n",
    "    'hei_fruitjuice': {'parameters':[0,0], 'name': 'HEIX7_FRUITJUICE'},\n",
    "    'hei_SSB': {'parameters':[0,0], 'name': 'HEIX8_SSB'},\n",
    "    'hei_sweets': {'parameters':[0,0], 'name': 'HEIX9_SWEETS'},\n",
    "    'hei_salty': {'parameters':[0,0], 'name': 'HEIX10_SALTY'},\n",
    "    'hei_cereal': {'parameters':[0,0], 'name': 'HEIX11_CEREAL'}\n",
    "    }\n",
    "\n",
    "ped_dict={\n",
    "    'young': ped811_dict,\n",
    "    'child':ped1224_dict,\n",
    "    'infant':ped08_dict\n",
    "}\n",
    "\n",
    "\n",
    "hei_dict={\n",
    "      'hei_totveg':\n",
    "      ['VEG0100','VEG0200','VEG0300','VEG0400','VEG0800','VEG0450','VEG0700','VEG0600','VEG0900','VEG0500'],\n",
    "      'hei_greensbeans':\n",
    "      ['VEG0100','VEG0700'],\n",
    "      'hei_totfruit':\n",
    "      ['FRU0100','FRU0200','FRU0300','FRU0400','FRU0500','FRU0600','FRU0700'],\n",
    "      'hei_wholefruit':\n",
    "      ['FRU0300','FRU0400','FRU0500','FRU0600','FRU0700'],\n",
    "      'hei_wholegrains':\n",
    "      ['Whole Grains (ounce equivalents)'],\n",
    "      'hei_dairy':\n",
    "      ['DMF0100','DMR0100','DML0100','DMN0100','DMF0200','DMR0200','DML0200',\n",
    "                   'DML0300','DML0400','DCF0100','DCR0100','DCL0100','DCN0100','DYF0100',\n",
    "                   'DYR0100','DYL0100','DYF0200','DYR0200','DYL0200','DYN0100',\n",
    "                   'DOT0300','DOT0400','DOT0500','DOT0600','DOT0100'],\n",
    "      'hei_totproteins':\n",
    "      ['MRF0100','MRL0100','MRF0200','MRL0200','MRF0300','MRL0300','MRF0400',\n",
    "                         'MRL0400','MCF0200','MCL0200','MRF0500','MPF0100','MPL0100','MPF0200',\n",
    "                         'MFF0100','MFL0100','MFF0200','MSL0100',\n",
    "                         'MSF0100','MCF0100','MCL0100','MOF0100','MOF0200','MOF0300','MOF0400','MOF0500',\n",
    "                         'MOF0600','MOF0700','VEG0700'],\n",
    "      'hei_seafoodplantprot':\n",
    "      ['MFF0100','MFL0100','MFF0200','MSL0100','MSF0100','MOF0500','MOF0600','MOF0700','VEG0700'],\n",
    "      'hei_sodium':\n",
    "      ['Sodium (mg)'],\n",
    "      'hei_refinedgrains':\n",
    "      ['Refined Grains (ounce equivalents)'],\n",
    "      'hei_addedsugars':\n",
    "      ['Added Sugars (by Total Sugars) (g)'],\n",
    "      'ripctsfa': ['% Calories from SFA','Energy (kcal)'],\n",
    "     'energy':\n",
    "     ['Energy (kcal)'],\n",
    "     'fats':\n",
    "     ['Total Polyunsaturated Fatty Acids (PUFA) (g)','Total Monounsaturated Fatty Acids (MUFA) (g)',\n",
    "     'Total Saturated Fatty Acids (SFA) (g)']\n",
    "     }\n",
    "\n",
    "hei_ped_dict={'hei_totveg':\n",
    "        ['VEG0100','VEG0200','VEG0300','VEG0400','VEG0800','VEG0450','VEG0700','VEG0600','VEG0900','VEG0500'],\n",
    "        'hei_greensbeans':\n",
    "        ['VEG0100','VEG0700'],\n",
    "        'hei_totfruit':\n",
    "        ['FRU0100','FRU0200','FRU0300','FRU0400','FRU0500','FRU0600','FRU0700'],\n",
    "        'hei_wholefruit':\n",
    "        ['FRU0300','FRU0400','FRU0500','FRU0600','FRU0700'],\n",
    "        'hei_wholegrains':\n",
    "        ['Whole Grains (ounce equivalents)'],\n",
    "        'hei_dairy':\n",
    "        ['DMF0100','DMR0100','DML0100','DMN0100','DMF0200','DMR0200','DML0200',\n",
    "                     'DML0300','DML0400','DCF0100','DCR0100','DCL0100','DCN0100','DYF0100',\n",
    "                     'DYR0100','DYL0100','DYF0200','DYR0200','DYL0200','DYN0100',\n",
    "                     'DOT0300','DOT0400','DOT0500','DOT0600','DOT0100'],\n",
    "        'hei_totproteins':\n",
    "        ['MRF0100','MRL0100','MRF0200','MRL0200','MRF0300','MRL0300','MRF0400',\n",
    "                           'MRL0400','MCF0200','MCL0200','MRF0500','MPF0100','MPL0100','MPF0200',\n",
    "                           'MFF0100','MFL0100','MFF0200','MSL0100',\n",
    "                           'MSF0100','MCF0100','MCL0100','MOF0100','MOF0200','MOF0300','MOF0400','MOF0500',\n",
    "                           'MOF0600','MOF0700','VEG0700'],\n",
    "        'hei_seafoodplantprot':\n",
    "        ['MFF0100','MFL0100','MFF0200','MSL0100','MSF0100','MOF0500','MOF0600','MOF0700','VEG0700'],\n",
    "        'hei_refinedgrains':\n",
    "        ['Refined Grains (ounce equivalents)'],\n",
    "       'energy':\n",
    "       ['Energy (kcal)'],\n",
    "        'hei_fruitjuice':\n",
    "        ['FRU0100','FRU0200'],\n",
    "        'hei_SSB':\n",
    "        ['DMF0200','DMR0200','DML0200','DML0300','SWT0600','BVS0400','BVS0300','BVS0500','BVS0100','BVS0200','BVS0600','BVS0700', 'SWT0600'],\n",
    "        'chocolate_candies':\n",
    "        ['SWT0100'],\n",
    "        'candies':\n",
    "        ['SWT0200'],\n",
    "        'frosting':\n",
    "        ['SWT0300'],\n",
    "        'sweet_sauce':\n",
    "        ['SWT0700' , 'SWT0800' ],\n",
    "        'sugar':\n",
    "        ['SWT0400' ],\n",
    "        'syrups':\n",
    "        ['SWT0500' ],\n",
    "        'Pudding':\n",
    "        ['DOT0300' , 'DOT0400'],\n",
    "        'icecream':\n",
    "        ['DOT0100' ],\n",
    "        'nondairy_treat':\n",
    "        ['DOT0200' ],\n",
    "        'baked_good':\n",
    "        ['GRR0800' , 'GRS0800',  'GRW0800' ],\n",
    "        'chips':\n",
    "        ['GRW0900' ,'GRS0900' , 'GRR0900' , 'GRW1100' , 'GRW1200', 'GRW0400' ,'GRS0400' ,'GRR0400' ],\n",
    "        'fries':\n",
    "        ['VEG0800' ],\n",
    "        'other_fried':\n",
    "        ['FMC0100', 'FMC0200' ],\n",
    "        'milk':\n",
    "        ['DMF0100','DMR0100','DML0100','DMN0100' ,'DMF0200','DMR0200','DML0200','DOT0500', 'DOT0600'],\n",
    "        'formula_foz':\n",
    "        ['DOT0700', 'DOT0800'],\n",
    "        'cereal_oz':\n",
    "        ['GRW0600','GRS0600','GRR0600','GRW0700','GRS0700','GRR0700'],\n",
    "        'bbcereal_hcup':\n",
    "        ['GRW1300','GRS1300']\n",
    "        }\n",
    "\n",
    "conv_dict={\n",
    "    'hei_fruitjuice':4,\n",
    "    'hei_SSB':8,\n",
    "    'chocolate_candies':40,\n",
    "    'candies':15,\n",
    "    'frosting':35,\n",
    "    'sugar':4,\n",
    "    'syrups':.25,\n",
    "    'Pudding':1,\n",
    "    'icecream':.5,\n",
    "    'nondairy_treat':85,\n",
    "    'baked_good':55,\n",
    "    'fries': 70,\n",
    "    'formula_foz':5,\n",
    "    'bbcereal_hcup':.5\n",
    "}\n",
    "\n",
    "make_hei_dict={\n",
    "    'hei_sweets' :\n",
    "    ['chocolate_candies','candies','frosting','sweet_sauce','sugar','syrups','Pudding', 'icecream','nondairy_treat','baked_good'],\n",
    "    'hei_salty' :\n",
    "    ['chips','other_fried','fries'],\n",
    "    'hei_vegetables':\n",
    "    ['hei_totveg', 'hei_greensbeans'],\n",
    "    'hei_proteins':\n",
    "    ['hei_totproteins','hei_seafoodplantprot'],\n",
    "    'hei_milk':\n",
    "    ['hei_dairy','formula_foz'],\n",
    "    'hei_cereal':\n",
    "    ['cereal_oz', 'bbcereal_hcup']\n",
    "}\n",
    "\n",
    "interest = ['Participant ID','Energy (kcal)', 'hei_totveg', 'hei_greensbeans', 'hei_totfruit', 'hei_wholefruit', 'hei_wholegrains','hei_dairy', 'hei_totproteins', 'hei_seafoodplantprot', 'Total Polyunsaturated Fatty Acids (PUFA) (g)',\n",
    "        'Total Monounsaturated Fatty Acids (MUFA) (g)', 'Total Saturated Fatty Acids (SFA) (g)',\n",
    "        'hei_sodium', 'hei_refinedgrains', 'hei_addedsugars', 'ripctsfa','energy','% Calories from SFA']\n",
    "\n",
    "ped_interest = ['Participant ID','Energy (kcal)', 'hei_totveg', 'hei_greensbeans', 'hei_totfruit', 'hei_wholefruit', 'hei_wholegrains','hei_dairy', 'hei_totproteins', 'hei_seafoodplantprot',\n",
    "        'hei_refinedgrains', 'hei_addedsugars', 'ripctsfa','energy','chocolate_candies','candies','frosting','sweet_sauce','sugar','syrups','Pudding', 'icecream','nondairy_treat','baked_good',\n",
    "        'chips','other_fried','fries']\n"
   ]
  },
  {
   "cell_type": "code",
   "execution_count": 3,
   "metadata": {},
   "outputs": [],
   "source": [
    "basepath='/Users/gracer/Google Drive/BCP/data'"
   ]
  },
  {
   "cell_type": "code",
   "execution_count": 27,
   "metadata": {},
   "outputs": [],
   "source": [
    "arglist={'BASEPATH': basepath, \n",
    "         'CHILD': True, \n",
    "         'NAMES': 'testies', \n",
    "         'OPTS': ['Chil'], \n",
    "         'SAVE':os.path.join(basepath, 'derivived'),\n",
    "         'XTRA':'total_dataset.csv'}"
   ]
  },
  {
   "cell_type": "code",
   "execution_count": 5,
   "metadata": {},
   "outputs": [],
   "source": [
    "for (dirpath, dirnames, filenames) in os.walk(basepath):\n",
    "        for filename in filenames:\n",
    "            if filename.endswith('.zip'):\n",
    "                tmppath=os.sep.join([dirpath, filename])\n",
    "                with ZipFile(tmppath, 'r') as zipObj:\n",
    "                   # Get a list of all archived file names from the zip\n",
    "                   listOfFileNames = zipObj.namelist()\n",
    "                   # Iterate over the file names\n",
    "                   for fileName in listOfFileNames:\n",
    "                       # Check filename endswith txt\n",
    "                        if fileName.endswith('04.txt'):\n",
    "                            zipObj.extract(fileName, os.path.join(basepath,'temp_txt'))\n",
    "                        if fileName.endswith('09.txt'):\n",
    "                            zipObj.extract(fileName, os.path.join(basepath,'temp_txt'))\n",
    "infile = os.path.join(basepath,'temp_txt')"
   ]
  },
  {
   "cell_type": "code",
   "execution_count": 154,
   "metadata": {},
   "outputs": [
    {
     "name": "stdout",
     "output_type": "stream",
     "text": [
      "this is the item Chil\n",
      "Chil\n",
      "Chil\n",
      "Chil\n",
      "Final dataframe size:  (931, 226)\n"
     ]
    }
   ],
   "source": [
    "a=HEI.file_org(infile, arglist, important)"
   ]
  },
  {
   "cell_type": "code",
   "execution_count": 155,
   "metadata": {},
   "outputs": [],
   "source": [
    "df=a[arglist['OPTS'][0]]"
   ]
  },
  {
   "cell_type": "code",
   "execution_count": 156,
   "metadata": {},
   "outputs": [
    {
     "data": {
      "text/plain": [
       "(659, 382)"
      ]
     },
     "execution_count": 156,
     "metadata": {},
     "output_type": "execute_result"
    }
   ],
   "source": [
    "df.shape"
   ]
  },
  {
   "cell_type": "code",
   "execution_count": 157,
   "metadata": {},
   "outputs": [],
   "source": [
    "def path_finder(arglist):\n",
    "    #read in the data\n",
    "    df1=os.path.join(arglist['BASEPATH'],arglist['SAVE'],arglist['XTRA'])\n",
    "    print(df1)\n",
    "    demo_df=pd.read_csv(df1, sep=',',encoding='latin1')\n",
    "    return(demo_df)"
   ]
  },
  {
   "cell_type": "code",
   "execution_count": 158,
   "metadata": {},
   "outputs": [],
   "source": [
    "def refactor(infant_df):\n",
    "    infant_df['breastfed']=infant_df['breastfed'].replace({'no': 0, 'yes': 1})\n",
    "    infant_df['any_formula']=infant_df['any_formula'].replace({'no': 0, 'yes': 1,'NaN':'NA'})\n",
    "    infant_df['regular_formula']=infant_df['regular_formula'].replace({'no': 0, 'yes': 1,'NaN':'NA','not_answered':'NA'})\n",
    "    infant_df['age_fed_dropdown']=infant_df['age_fed_dropdown'].replace({'no': 0, 'yes': 1,'NaN':'NA','not_answered':'NA','never_not_yet':0})\n",
    "    infant_df['age_stop_dropdown']=infant_df['age_stop_dropdown'].replace({'no': 0, 'yes': 1,'NaN':'NA','not_answered':'NA','never_not_yet':0})\n",
    "    return(infant_df)"
   ]
  },
  {
   "cell_type": "code",
   "execution_count": 188,
   "metadata": {},
   "outputs": [],
   "source": [
    "def ager(x):\n",
    "    # Get the age in months of each recall\n",
    "    x['DoB'] = pd.to_datetime(x['DoB'])\n",
    "    x['Date of Intake'] = pd.to_datetime(x['Date of Intake'])\n",
    "    x['Date_taken'] = pd.to_datetime(x['Date_taken'])\n",
    "    \n",
    "    x['Age_at_Date_of_Intake'] = x['Date of Intake'] - x['DoB']\n",
    "    x['Age_at_Date_of_Anthros'] = x['Date_taken'] - x['DoB']\n",
    "    \n",
    "    x['Age_at_Date_of_Intake']= x['Age_at_Date_of_Intake']/ np.timedelta64(1, 'M')\n",
    "    x['Age_at_Date_of_Anthros']= x['Age_at_Date_of_Anthros']/ np.timedelta64(1, 'M')\n",
    "    return(x)"
   ]
  },
  {
   "cell_type": "markdown",
   "metadata": {},
   "source": [
    "## Important Feeding stuff\n",
    "* DoB\n",
    "* Started Any Formula (Months old) NA - No Formula\n",
    "* Started Regular (in months)\n",
    "* Ended Formula (months old) NA - No Formula\n",
    "* Started Solids (months old)\n",
    "* Ended breastmilk (months old)\n",
    "* Feeding Practice (First 4 months)\n",
    "* child_feeding_practice-age_any_formula\n",
    "* child_feeding_practice-age_fed\n",
    "* child_feeding_practice-age_fed_dropdown\n",
    "* child_feeding_practice-age_fed_status\n",
    "* child_feeding_practice-age_regular_formula\n",
    "* child_feeding_practice-age_regular_formula_status\n",
    "* child_feeding_practice-age_stop\n",
    "* child_feeding_practice-age_stop_dropdown\n",
    "* child_feeding_practice-age_stop_formula\n",
    "* child_feeding_practice-age_stop_formula_dropdown\n",
    "* child_feeding_practice-age_stop_formula_status\n",
    "* child_feeding_practice-age_stop_status\n",
    "* child_feeding_practice-any_formula\n",
    "* child_feeding_practice-breastfed\n",
    "* child_feeding_practice-regular_formula\n",
    "* Date_taken\n",
    "* Date of Intake"
   ]
  },
  {
   "cell_type": "code",
   "execution_count": 189,
   "metadata": {},
   "outputs": [],
   "source": [
    "def BCP(diet_df, arglist):\n",
    "    diet_df=df\n",
    "    demo_df = path_finder(arglist)\n",
    "    y='Participant ID'\n",
    "    diet_df[y]=diet_df[y].convert_objects(convert_numeric=True)\n",
    "    demo_df[y]=demo_df[y].convert_objects(convert_numeric=True)\n",
    "    unique1 = list(set(demo_df[y])-set(diet_df[y])) \n",
    "    print(unique1)\n",
    "    unique2 = list(set(diet_df[y])-set(demo_df[y])) \n",
    "    print(unique2)\n",
    "    all_data=demo_df.merge(diet_df, on=[y])\n",
    "    all_data=ager(all_data)\n",
    "\n",
    "    return(all_data)"
   ]
  },
  {
   "cell_type": "code",
   "execution_count": 190,
   "metadata": {},
   "outputs": [
    {
     "name": "stdout",
     "output_type": "stream",
     "text": [
      "/Users/gracer/Google Drive/BCP/data/derivived/total_dataset.csv\n",
      "[914176, 476291, 947206, 657158, 999947, 780046, 759162, 437532, 251549, 866461, 714783, 295330, 236452, 682023, 569511, 640680, 536876, 387450, 298032, 943541, 861367, 232633, 469822, 764612, 904006, 318409, 633038, 427732, 710741, 680534, 209364, 617942, 871514, 474330, 375518, 736609, 865762, 709477, 705639, 351080, 317415, 309615, 863856, 124529, 513010, 671741, 826360, 456442, 747645, 887679]\n",
      "[107008, 525955, 17541, 406663, 683402, 151307, 223244, 530066, 740371, 607764, 216852, 157075, 266394, 200474, 385434, 2081, 757282, 624802, 494244, 788132, 605985, 111521, 408997, 412584, 395568, 158643, 137012, 505525, 761141, 110006, 340476, 950202, 148796, 417855, 106436, 189896, 456907, 758603, 51407, 382287, 388560, 732627, 911829, 415958, 627929, 468570, 859865, 509659, 945369, 314462, 999647, 675674, 546401, 11228, 354404, 648807, 452200, 67688, 418793, 495082, 865900, 801901, 576112, 515697, 52977, 774387, 683764, 421109, 774004, 664313, 518139, 132476, 439037]\n"
     ]
    }
   ],
   "source": [
    "x=BCP(df, arglist)"
   ]
  },
  {
   "cell_type": "code",
   "execution_count": 191,
   "metadata": {},
   "outputs": [
    {
     "name": "stdout",
     "output_type": "stream",
     "text": [
      "hei_totveg\n",
      "hei_greensbeans\n",
      "hei_totfruit\n",
      "hei_wholefruit\n",
      "hei_wholegrains\n",
      "hei_dairy\n",
      "hei_totproteins\n",
      "hei_seafoodplantprot\n",
      "hei_refinedgrains\n",
      "energy\n",
      "hei_fruitjuice\n",
      "hei_SSB\n",
      "chocolate_candies\n",
      "candies\n",
      "frosting\n",
      "sweet_sauce\n",
      "sugar\n",
      "syrups\n",
      "Pudding\n",
      "icecream\n",
      "nondairy_treat\n",
      "baked_good\n",
      "chips\n",
      "fries\n",
      "other_fried\n",
      "milk\n",
      "formula_foz\n",
      "cereal_oz\n",
      "bbcereal_hcup\n"
     ]
    }
   ],
   "source": [
    "y=HEI.make_ped_components(hei_ped_dict, x, conv_dict)"
   ]
  },
  {
   "cell_type": "code",
   "execution_count": 192,
   "metadata": {},
   "outputs": [
    {
     "name": "stdout",
     "output_type": "stream",
     "text": [
      "START\n",
      "{'hei_sweets': ['chocolate_candies', 'candies', 'frosting', 'sweet_sauce', 'sugar', 'syrups', 'Pudding', 'icecream', 'nondairy_treat', 'baked_good'], 'hei_salty': ['chips', 'other_fried', 'fries'], 'hei_vegetables': ['hei_totveg', 'hei_greensbeans'], 'hei_proteins': ['hei_totproteins', 'hei_seafoodplantprot'], 'hei_milk': ['hei_dairy', 'formula_foz'], 'hei_cereal': ['cereal_oz', 'bbcereal_hcup']}\n"
     ]
    }
   ],
   "source": [
    "que=HEI.make_hei(y, make_hei_dict)\n"
   ]
  },
  {
   "cell_type": "code",
   "execution_count": 241,
   "metadata": {},
   "outputs": [],
   "source": [
    "def splitter(DF):\n",
    "    DF_child=DF.query('Age_at_Date_of_Intake >= 12')\n",
    "    DF_young=DF.query('Age_at_Date_of_Intake < 12 and Age_at_Date_of_Intake >= 8')\n",
    "    DF_infant=DF.query('Age_at_Date_of_Intake < 8')\n",
    "    DF_infant['start_regular_formula']=DF_infant.iloc[:,[15]]\n",
    "    DF_infant['start_regular_formula']=DF_infant['start_regular_formula'].astype('float32')\n",
    "    df={'DF_child':DF_child, 'DF_young':DF_young, 'DF_infant':DF_infant}\n",
    "    return(df)"
   ]
  },
  {
   "cell_type": "code",
   "execution_count": 242,
   "metadata": {},
   "outputs": [],
   "source": [
    "split_dict=splitter(que)"
   ]
  },
  {
   "cell_type": "code",
   "execution_count": 243,
   "metadata": {},
   "outputs": [
    {
     "data": {
      "text/plain": [
       "count    21234.000000\n",
       "mean        10.073972\n",
       "std          1.072412\n",
       "min          8.115156\n",
       "25%          9.232222\n",
       "50%          9.823610\n",
       "75%         10.940676\n",
       "max         11.992033\n",
       "Name: Age_at_Date_of_Intake, dtype: float64"
      ]
     },
     "execution_count": 243,
     "metadata": {},
     "output_type": "execute_result"
    }
   ],
   "source": [
    "split_dict['DF_young']['Age_at_Date_of_Intake'].describe()"
   ]
  },
  {
   "cell_type": "code",
   "execution_count": 244,
   "metadata": {},
   "outputs": [
    {
     "data": {
      "text/plain": [
       "0.0     2936\n",
       "1       1680\n",
       "6.0     1290\n",
       "11.0    1176\n",
       "0.4     1096\n",
       "0.13     840\n",
       "0.1      820\n",
       "10       760\n",
       "0.4      720\n",
       "7.0      672\n",
       "7        630\n",
       "10.0     588\n",
       "4.5      480\n",
       "0.16     392\n",
       "8.0      360\n",
       "0.5      336\n",
       "1.4      336\n",
       "5        144\n",
       "3        120\n",
       "9         90\n",
       "Name: Started Any Formula (Months old) NA - No Formula, dtype: int64"
      ]
     },
     "execution_count": 244,
     "metadata": {},
     "output_type": "execute_result"
    }
   ],
   "source": [
    "split_dict['DF_infant']['Started Any Formula (Months old) NA - No Formula'].value_counts()"
   ]
  },
  {
   "cell_type": "code",
   "execution_count": 263,
   "metadata": {},
   "outputs": [],
   "source": [
    "def DQI_BF(df, output, age_group):\n",
    "    if age_group == 'infant':\n",
    "        df[output]=[15 if pd.isna(row['start_regular_formula']) == True else 5 if row['start_regular_formula'] >= 8 else 10 for index, row in df.iterrows()]\n",
    "    else:\n",
    "        df[output]=[10 if row['age_stop_dropdown'] == 0 and row['breastfed'] == 1 else 0 for index, row in df.iterrows()]\n",
    "        \n",
    "        \n",
    "        \n",
    "        \n",
    "        "
   ]
  },
  {
   "cell_type": "code",
   "execution_count": 264,
   "metadata": {},
   "outputs": [],
   "source": [
    "def check(dic, data, name, option, arglist):\n",
    "    if arglist['CHILD'] == False:\n",
    "        df=data\n",
    "        toSum=['HEIX1_TOTALVEG','HEIX2_GREEN_AND_BEAN' , 'HEIX3_TOTALFRUIT' , 'HEIX4_WHOLEFRUIT' ,\n",
    "               'HEIX5_WHOLEGRAIN' , 'HEIX6_TOTALDAIRY' , 'HEIX7_TOTPROT' , 'HEIX8_SEAPLANT_PROT' , 'HEIX9_FATTYACID' ,\n",
    "               'HEIX10_SODIUM' , 'HEIX11_REFINEDGRAIN' , 'HEIX12_ADDEDSUGARS' , 'HEIX13_SATFATS']\n",
    "        for key,values in dic.items():\n",
    "            print('Calculating score for %s'%key)\n",
    "            if key in ['hei_totveg','hei_greensbeans', 'hei_totfruit', 'hei_wholefruit', 'hei_totproteins', 'hei_seafoodplantprot',\n",
    "                        'hei_wholegrains', 'hei_dairy','Fats']:\n",
    "                if key == 'Fats':\n",
    "                    adeq_check(df, key, values['name'], values['parameters'])\n",
    "                else:\n",
    "                    adeq_check(df, key, values['name'], values['parameters'][0])\n",
    "            if key in ['hei_sodium','hei_refinedgrains','hei_addedsugars','hei_SFA']:\n",
    "                mod_check(df, key, values['name'], values['parameters'])\n",
    "        df['HEI2015_TOTAL_SCORE']=df[df.columns.intersection(toSum)].sum(axis=1)\n",
    "        concat_filepath = os.path.join(arglist['SAVE'],'%s_%s_HEI.csv'%(option, name))\n",
    "        df.to_csv(concat_filepath, index=False, sep=\",\", header=True)\n",
    "    else:\n",
    "        df=data\n",
    "        for key,values in dic.items():\n",
    "            if key in ['hei_vegetables','hei_totfruit','hei_wholegrains','hei_dairy','hei_milk','hei_proteins','hei_refinedgrains',\n",
    "            'hei_fruitjuice','hei_SSB','hei_sweets','hei_salty','hei_cereal']:\n",
    "                print('Calculating score for %s'%key)\n",
    "                if name != 'infant':\n",
    "                    toSum=['HEIX0_BREASTFEEDING','HEIX1_VEGETABLES','HEIX2_TOTALFRUIT' , 'HEIX3_WHOLEGRAIN' , 'HEIX4_TOTALDAIRY' ,\n",
    "                           'HEIX5_PROTEIN' , 'HEIX6_REFINEDGRAIN' , 'HEIX7_FRUITJUICE' , 'HEIX8_SSB', 'HEIX9_SWEETS',\n",
    "                           'HEIX10_SALTY']\n",
    "                    DQI(df,key, values['name'], values['parameters'])\n",
    "                    df['HEI2015_TOTAL_SCORE']=df[df.columns.intersection(toSum)].sum(axis=1)\n",
    "                    concat_filepath = os.path.join(arglist['SAVE'],'%s_%s_HEI.csv'%(option, name))\n",
    "                    df.to_csv(concat_filepath, index=False, sep=\",\", header=True)\n",
    "                else:\n",
    "                    toSum=['HEIX0_BREASTFEEDING','HEIX1_VEGETABLES','HEIX2_TOTALFRUIT'  ,\n",
    "                           'HEIX5_PROTEIN' ,  'HEIX7_FRUITJUICE' , 'HEIX8_SSB', 'HEIX9_SWEETS',\n",
    "                           'HEIX10_SALTY', 'HEIX11_CEREAL']\n",
    "                    infant_DQI(df,key, values['name'], values['parameters'])\n",
    "                    df['HEI2015_TOTAL_SCORE']=df[df.columns.intersection(toSum)].sum(axis=1)\n",
    "                    concat_filepath = os.path.join(arglist['SAVE'],'%s_%s_HEI.csv'%(option, name))\n",
    "                    df.to_csv(concat_filepath, index=False, sep=\",\", header=True)\n"
   ]
  },
  {
   "cell_type": "code",
   "execution_count": 265,
   "metadata": {},
   "outputs": [],
   "source": [
    "DQI_BF(split_dict['DF_infant'], 'HEIX0_BREASTFEEDING', 'infant')"
   ]
  },
  {
   "cell_type": "code",
   "execution_count": 267,
   "metadata": {},
   "outputs": [
    {
     "data": {
      "text/plain": [
       "count    25460.000000\n",
       "mean        12.668892\n",
       "std          3.122961\n",
       "min          5.000000\n",
       "25%         10.000000\n",
       "50%         15.000000\n",
       "75%         15.000000\n",
       "max         15.000000\n",
       "Name: HEIX0_BREASTFEEDING, dtype: float64"
      ]
     },
     "execution_count": 267,
     "metadata": {},
     "output_type": "execute_result"
    }
   ],
   "source": [
    "split_dict['DF_infant']['HEIX0_BREASTFEEDING'].describe()"
   ]
  },
  {
   "cell_type": "code",
   "execution_count": 252,
   "metadata": {},
   "outputs": [
    {
     "data": {
      "text/plain": [
       "count    10072.000000\n",
       "mean         4.541829\n",
       "std          3.388052\n",
       "min          0.000000\n",
       "25%          0.500000\n",
       "50%          6.000000\n",
       "75%          6.500000\n",
       "max         10.000000\n",
       "Name: start_regular_formula, dtype: float64"
      ]
     },
     "execution_count": 252,
     "metadata": {},
     "output_type": "execute_result"
    }
   ],
   "source": [
    "split_dict['DF_infant']['start_regular_formula'].describe()"
   ]
  },
  {
   "cell_type": "code",
   "execution_count": 202,
   "metadata": {},
   "outputs": [
    {
     "ename": "KeyError",
     "evalue": "'age_stop_dropdown'",
     "output_type": "error",
     "traceback": [
      "\u001b[0;31m---------------------------------------------------------------------------\u001b[0m",
      "\u001b[0;31mTypeError\u001b[0m                                 Traceback (most recent call last)",
      "\u001b[0;32m~/.local/lib/python3.6/site-packages/pandas/core/indexes/base.py\u001b[0m in \u001b[0;36mget_value\u001b[0;34m(self, series, key)\u001b[0m\n\u001b[1;32m   4325\u001b[0m             \u001b[0;32mtry\u001b[0m\u001b[0;34m:\u001b[0m\u001b[0;34m\u001b[0m\u001b[0m\n\u001b[0;32m-> 4326\u001b[0;31m                 \u001b[0;32mreturn\u001b[0m \u001b[0mlibindex\u001b[0m\u001b[0;34m.\u001b[0m\u001b[0mget_value_box\u001b[0m\u001b[0;34m(\u001b[0m\u001b[0ms\u001b[0m\u001b[0;34m,\u001b[0m \u001b[0mkey\u001b[0m\u001b[0;34m)\u001b[0m\u001b[0;34m\u001b[0m\u001b[0m\n\u001b[0m\u001b[1;32m   4327\u001b[0m             \u001b[0;32mexcept\u001b[0m \u001b[0mIndexError\u001b[0m\u001b[0;34m:\u001b[0m\u001b[0;34m\u001b[0m\u001b[0m\n",
      "\u001b[0;32mpandas/_libs/index.pyx\u001b[0m in \u001b[0;36mpandas._libs.index.get_value_box\u001b[0;34m()\u001b[0m\n",
      "\u001b[0;32mpandas/_libs/index.pyx\u001b[0m in \u001b[0;36mpandas._libs.index.get_value_at\u001b[0;34m()\u001b[0m\n",
      "\u001b[0;32mpandas/_libs/util.pxd\u001b[0m in \u001b[0;36mpandas._libs.util.get_value_at\u001b[0;34m()\u001b[0m\n",
      "\u001b[0;32mpandas/_libs/util.pxd\u001b[0m in \u001b[0;36mpandas._libs.util.validate_indexer\u001b[0;34m()\u001b[0m\n",
      "\u001b[0;31mTypeError\u001b[0m: 'str' object cannot be interpreted as an integer",
      "\nDuring handling of the above exception, another exception occurred:\n",
      "\u001b[0;31mKeyError\u001b[0m                                  Traceback (most recent call last)",
      "\u001b[0;32m<ipython-input-202-3f062fe88b6e>\u001b[0m in \u001b[0;36m<module>\u001b[0;34m()\u001b[0m\n\u001b[1;32m      1\u001b[0m \u001b[0;32mfor\u001b[0m \u001b[0mkey\u001b[0m\u001b[0;34m,\u001b[0m \u001b[0mvalue\u001b[0m \u001b[0;32min\u001b[0m \u001b[0msplit_dict\u001b[0m\u001b[0;34m.\u001b[0m\u001b[0mitems\u001b[0m\u001b[0;34m(\u001b[0m\u001b[0;34m)\u001b[0m\u001b[0;34m:\u001b[0m\u001b[0;34m\u001b[0m\u001b[0m\n\u001b[1;32m      2\u001b[0m     \u001b[0;32mif\u001b[0m \u001b[0mkey\u001b[0m \u001b[0;34m==\u001b[0m \u001b[0;34m'DF_child'\u001b[0m\u001b[0;34m:\u001b[0m\u001b[0;34m\u001b[0m\u001b[0m\n\u001b[0;32m----> 3\u001b[0;31m         \u001b[0mHEI\u001b[0m\u001b[0;34m.\u001b[0m\u001b[0mDQI_BF\u001b[0m\u001b[0;34m(\u001b[0m\u001b[0mvalue\u001b[0m\u001b[0;34m,\u001b[0m \u001b[0;34m'HEIX0_BREASTFEEDING'\u001b[0m\u001b[0;34m,\u001b[0m \u001b[0;34m'child'\u001b[0m\u001b[0;34m)\u001b[0m\u001b[0;34m\u001b[0m\u001b[0m\n\u001b[0m\u001b[1;32m      4\u001b[0m         \u001b[0mHEI\u001b[0m\u001b[0;34m.\u001b[0m\u001b[0mcheck\u001b[0m\u001b[0;34m(\u001b[0m\u001b[0mped_dict\u001b[0m\u001b[0;34m[\u001b[0m\u001b[0;34m'child'\u001b[0m\u001b[0;34m]\u001b[0m\u001b[0;34m,\u001b[0m \u001b[0mvalue\u001b[0m\u001b[0;34m,\u001b[0m \u001b[0;34m'child'\u001b[0m\u001b[0;34m,\u001b[0m \u001b[0mkey\u001b[0m\u001b[0;34m,\u001b[0m \u001b[0marglist\u001b[0m\u001b[0;34m)\u001b[0m\u001b[0;34m\u001b[0m\u001b[0m\n\u001b[1;32m      5\u001b[0m     \u001b[0;32melif\u001b[0m \u001b[0mkey\u001b[0m \u001b[0;34m==\u001b[0m \u001b[0;34m'DF_young'\u001b[0m\u001b[0;34m:\u001b[0m\u001b[0;34m\u001b[0m\u001b[0m\n",
      "\u001b[0;32m~/Google Drive/BCP/scripts/BCP/HEI/HEI/HEI.py\u001b[0m in \u001b[0;36mDQI_BF\u001b[0;34m(df, output, age_group)\u001b[0m\n\u001b[1;32m    433\u001b[0m     \u001b[0;32mif\u001b[0m \u001b[0mage_group\u001b[0m \u001b[0;34m==\u001b[0m \u001b[0;34m'infant'\u001b[0m\u001b[0;34m:\u001b[0m\u001b[0;34m\u001b[0m\u001b[0m\n\u001b[1;32m    434\u001b[0m         \u001b[0mdf\u001b[0m\u001b[0;34m[\u001b[0m\u001b[0moutput\u001b[0m\u001b[0;34m]\u001b[0m\u001b[0;34m=\u001b[0m\u001b[0;34m[\u001b[0m\u001b[0;36m15\u001b[0m \u001b[0;32mif\u001b[0m \u001b[0mrow\u001b[0m\u001b[0;34m[\u001b[0m\u001b[0;34m'four_month_ratio'\u001b[0m\u001b[0;34m]\u001b[0m \u001b[0;34m==\u001b[0m \u001b[0;34m'exclusively_breastfed'\u001b[0m \u001b[0;32melse\u001b[0m \u001b[0;36m5\u001b[0m \u001b[0;32mif\u001b[0m \u001b[0mrow\u001b[0m\u001b[0;34m[\u001b[0m\u001b[0;34m'four_month_ratio'\u001b[0m\u001b[0;34m]\u001b[0m \u001b[0;34m==\u001b[0m \u001b[0;34m'exclusively_formula'\u001b[0m \u001b[0;32melse\u001b[0m \u001b[0;36m10\u001b[0m \u001b[0;32mfor\u001b[0m \u001b[0mindex\u001b[0m\u001b[0;34m,\u001b[0m \u001b[0mrow\u001b[0m \u001b[0;32min\u001b[0m \u001b[0mdf\u001b[0m\u001b[0;34m.\u001b[0m\u001b[0miterrows\u001b[0m\u001b[0;34m(\u001b[0m\u001b[0;34m)\u001b[0m\u001b[0;34m]\u001b[0m\u001b[0;34m\u001b[0m\u001b[0m\n\u001b[0;32m--> 435\u001b[0;31m     \u001b[0;32melse\u001b[0m\u001b[0;34m:\u001b[0m\u001b[0;34m\u001b[0m\u001b[0m\n\u001b[0m\u001b[1;32m    436\u001b[0m         \u001b[0mdf\u001b[0m\u001b[0;34m[\u001b[0m\u001b[0moutput\u001b[0m\u001b[0;34m]\u001b[0m\u001b[0;34m=\u001b[0m\u001b[0;34m[\u001b[0m\u001b[0;36m10\u001b[0m \u001b[0;32mif\u001b[0m \u001b[0mrow\u001b[0m\u001b[0;34m[\u001b[0m\u001b[0;34m'age_stop_dropdown'\u001b[0m\u001b[0;34m]\u001b[0m \u001b[0;34m==\u001b[0m \u001b[0;36m0\u001b[0m \u001b[0;32mand\u001b[0m \u001b[0mrow\u001b[0m\u001b[0;34m[\u001b[0m\u001b[0;34m'breastfed'\u001b[0m\u001b[0;34m]\u001b[0m \u001b[0;34m==\u001b[0m \u001b[0;36m1\u001b[0m \u001b[0;32melse\u001b[0m \u001b[0;36m0\u001b[0m \u001b[0;32mfor\u001b[0m \u001b[0mindex\u001b[0m\u001b[0;34m,\u001b[0m \u001b[0mrow\u001b[0m \u001b[0;32min\u001b[0m \u001b[0mdf\u001b[0m\u001b[0;34m.\u001b[0m\u001b[0miterrows\u001b[0m\u001b[0;34m(\u001b[0m\u001b[0;34m)\u001b[0m\u001b[0;34m]\u001b[0m\u001b[0;34m\u001b[0m\u001b[0m\n\u001b[1;32m    437\u001b[0m \u001b[0;34m\u001b[0m\u001b[0m\n",
      "\u001b[0;32m~/Google Drive/BCP/scripts/BCP/HEI/HEI/HEI.py\u001b[0m in \u001b[0;36m<listcomp>\u001b[0;34m(.0)\u001b[0m\n\u001b[1;32m    433\u001b[0m     \u001b[0;32mif\u001b[0m \u001b[0mage_group\u001b[0m \u001b[0;34m==\u001b[0m \u001b[0;34m'infant'\u001b[0m\u001b[0;34m:\u001b[0m\u001b[0;34m\u001b[0m\u001b[0m\n\u001b[1;32m    434\u001b[0m         \u001b[0mdf\u001b[0m\u001b[0;34m[\u001b[0m\u001b[0moutput\u001b[0m\u001b[0;34m]\u001b[0m\u001b[0;34m=\u001b[0m\u001b[0;34m[\u001b[0m\u001b[0;36m15\u001b[0m \u001b[0;32mif\u001b[0m \u001b[0mrow\u001b[0m\u001b[0;34m[\u001b[0m\u001b[0;34m'four_month_ratio'\u001b[0m\u001b[0;34m]\u001b[0m \u001b[0;34m==\u001b[0m \u001b[0;34m'exclusively_breastfed'\u001b[0m \u001b[0;32melse\u001b[0m \u001b[0;36m5\u001b[0m \u001b[0;32mif\u001b[0m \u001b[0mrow\u001b[0m\u001b[0;34m[\u001b[0m\u001b[0;34m'four_month_ratio'\u001b[0m\u001b[0;34m]\u001b[0m \u001b[0;34m==\u001b[0m \u001b[0;34m'exclusively_formula'\u001b[0m \u001b[0;32melse\u001b[0m \u001b[0;36m10\u001b[0m \u001b[0;32mfor\u001b[0m \u001b[0mindex\u001b[0m\u001b[0;34m,\u001b[0m \u001b[0mrow\u001b[0m \u001b[0;32min\u001b[0m \u001b[0mdf\u001b[0m\u001b[0;34m.\u001b[0m\u001b[0miterrows\u001b[0m\u001b[0;34m(\u001b[0m\u001b[0;34m)\u001b[0m\u001b[0;34m]\u001b[0m\u001b[0;34m\u001b[0m\u001b[0m\n\u001b[0;32m--> 435\u001b[0;31m     \u001b[0;32melse\u001b[0m\u001b[0;34m:\u001b[0m\u001b[0;34m\u001b[0m\u001b[0m\n\u001b[0m\u001b[1;32m    436\u001b[0m         \u001b[0mdf\u001b[0m\u001b[0;34m[\u001b[0m\u001b[0moutput\u001b[0m\u001b[0;34m]\u001b[0m\u001b[0;34m=\u001b[0m\u001b[0;34m[\u001b[0m\u001b[0;36m10\u001b[0m \u001b[0;32mif\u001b[0m \u001b[0mrow\u001b[0m\u001b[0;34m[\u001b[0m\u001b[0;34m'age_stop_dropdown'\u001b[0m\u001b[0;34m]\u001b[0m \u001b[0;34m==\u001b[0m \u001b[0;36m0\u001b[0m \u001b[0;32mand\u001b[0m \u001b[0mrow\u001b[0m\u001b[0;34m[\u001b[0m\u001b[0;34m'breastfed'\u001b[0m\u001b[0;34m]\u001b[0m \u001b[0;34m==\u001b[0m \u001b[0;36m1\u001b[0m \u001b[0;32melse\u001b[0m \u001b[0;36m0\u001b[0m \u001b[0;32mfor\u001b[0m \u001b[0mindex\u001b[0m\u001b[0;34m,\u001b[0m \u001b[0mrow\u001b[0m \u001b[0;32min\u001b[0m \u001b[0mdf\u001b[0m\u001b[0;34m.\u001b[0m\u001b[0miterrows\u001b[0m\u001b[0;34m(\u001b[0m\u001b[0;34m)\u001b[0m\u001b[0;34m]\u001b[0m\u001b[0;34m\u001b[0m\u001b[0m\n\u001b[1;32m    437\u001b[0m \u001b[0;34m\u001b[0m\u001b[0m\n",
      "\u001b[0;32m~/.local/lib/python3.6/site-packages/pandas/core/series.py\u001b[0m in \u001b[0;36m__getitem__\u001b[0;34m(self, key)\u001b[0m\n\u001b[1;32m    866\u001b[0m         \u001b[0mkey\u001b[0m \u001b[0;34m=\u001b[0m \u001b[0mcom\u001b[0m\u001b[0;34m.\u001b[0m\u001b[0mapply_if_callable\u001b[0m\u001b[0;34m(\u001b[0m\u001b[0mkey\u001b[0m\u001b[0;34m,\u001b[0m \u001b[0mself\u001b[0m\u001b[0;34m)\u001b[0m\u001b[0;34m\u001b[0m\u001b[0m\n\u001b[1;32m    867\u001b[0m         \u001b[0;32mtry\u001b[0m\u001b[0;34m:\u001b[0m\u001b[0;34m\u001b[0m\u001b[0m\n\u001b[0;32m--> 868\u001b[0;31m             \u001b[0mresult\u001b[0m \u001b[0;34m=\u001b[0m \u001b[0mself\u001b[0m\u001b[0;34m.\u001b[0m\u001b[0mindex\u001b[0m\u001b[0;34m.\u001b[0m\u001b[0mget_value\u001b[0m\u001b[0;34m(\u001b[0m\u001b[0mself\u001b[0m\u001b[0;34m,\u001b[0m \u001b[0mkey\u001b[0m\u001b[0;34m)\u001b[0m\u001b[0;34m\u001b[0m\u001b[0m\n\u001b[0m\u001b[1;32m    869\u001b[0m \u001b[0;34m\u001b[0m\u001b[0m\n\u001b[1;32m    870\u001b[0m             \u001b[0;32mif\u001b[0m \u001b[0;32mnot\u001b[0m \u001b[0mis_scalar\u001b[0m\u001b[0;34m(\u001b[0m\u001b[0mresult\u001b[0m\u001b[0;34m)\u001b[0m\u001b[0;34m:\u001b[0m\u001b[0;34m\u001b[0m\u001b[0m\n",
      "\u001b[0;32m~/.local/lib/python3.6/site-packages/pandas/core/indexes/base.py\u001b[0m in \u001b[0;36mget_value\u001b[0;34m(self, series, key)\u001b[0m\n\u001b[1;32m   4332\u001b[0m                     \u001b[0;32mraise\u001b[0m \u001b[0mInvalidIndexError\u001b[0m\u001b[0;34m(\u001b[0m\u001b[0mkey\u001b[0m\u001b[0;34m)\u001b[0m\u001b[0;34m\u001b[0m\u001b[0m\n\u001b[1;32m   4333\u001b[0m                 \u001b[0;32melse\u001b[0m\u001b[0;34m:\u001b[0m\u001b[0;34m\u001b[0m\u001b[0m\n\u001b[0;32m-> 4334\u001b[0;31m                     \u001b[0;32mraise\u001b[0m \u001b[0me1\u001b[0m\u001b[0;34m\u001b[0m\u001b[0m\n\u001b[0m\u001b[1;32m   4335\u001b[0m             \u001b[0;32mexcept\u001b[0m \u001b[0mException\u001b[0m\u001b[0;34m:\u001b[0m  \u001b[0;31m# pragma: no cover\u001b[0m\u001b[0;34m\u001b[0m\u001b[0m\n\u001b[1;32m   4336\u001b[0m                 \u001b[0;32mraise\u001b[0m \u001b[0me1\u001b[0m\u001b[0;34m\u001b[0m\u001b[0m\n",
      "\u001b[0;32m~/.local/lib/python3.6/site-packages/pandas/core/indexes/base.py\u001b[0m in \u001b[0;36mget_value\u001b[0;34m(self, series, key)\u001b[0m\n\u001b[1;32m   4318\u001b[0m         \u001b[0;32mtry\u001b[0m\u001b[0;34m:\u001b[0m\u001b[0;34m\u001b[0m\u001b[0m\n\u001b[1;32m   4319\u001b[0m             return self._engine.get_value(s, k,\n\u001b[0;32m-> 4320\u001b[0;31m                                           tz=getattr(series.dtype, 'tz', None))\n\u001b[0m\u001b[1;32m   4321\u001b[0m         \u001b[0;32mexcept\u001b[0m \u001b[0mKeyError\u001b[0m \u001b[0;32mas\u001b[0m \u001b[0me1\u001b[0m\u001b[0;34m:\u001b[0m\u001b[0;34m\u001b[0m\u001b[0m\n\u001b[1;32m   4322\u001b[0m             \u001b[0;32mif\u001b[0m \u001b[0mlen\u001b[0m\u001b[0;34m(\u001b[0m\u001b[0mself\u001b[0m\u001b[0;34m)\u001b[0m \u001b[0;34m>\u001b[0m \u001b[0;36m0\u001b[0m \u001b[0;32mand\u001b[0m \u001b[0;34m(\u001b[0m\u001b[0mself\u001b[0m\u001b[0;34m.\u001b[0m\u001b[0mholds_integer\u001b[0m\u001b[0;34m(\u001b[0m\u001b[0;34m)\u001b[0m \u001b[0;32mor\u001b[0m \u001b[0mself\u001b[0m\u001b[0;34m.\u001b[0m\u001b[0mis_boolean\u001b[0m\u001b[0;34m(\u001b[0m\u001b[0;34m)\u001b[0m\u001b[0;34m)\u001b[0m\u001b[0;34m:\u001b[0m\u001b[0;34m\u001b[0m\u001b[0m\n",
      "\u001b[0;32mpandas/_libs/index.pyx\u001b[0m in \u001b[0;36mpandas._libs.index.IndexEngine.get_value\u001b[0;34m()\u001b[0m\n",
      "\u001b[0;32mpandas/_libs/index.pyx\u001b[0m in \u001b[0;36mpandas._libs.index.IndexEngine.get_value\u001b[0;34m()\u001b[0m\n",
      "\u001b[0;32mpandas/_libs/index.pyx\u001b[0m in \u001b[0;36mpandas._libs.index.IndexEngine.get_loc\u001b[0;34m()\u001b[0m\n",
      "\u001b[0;32mpandas/_libs/hashtable_class_helper.pxi\u001b[0m in \u001b[0;36mpandas._libs.hashtable.PyObjectHashTable.get_item\u001b[0;34m()\u001b[0m\n",
      "\u001b[0;32mpandas/_libs/hashtable_class_helper.pxi\u001b[0m in \u001b[0;36mpandas._libs.hashtable.PyObjectHashTable.get_item\u001b[0;34m()\u001b[0m\n",
      "\u001b[0;31mKeyError\u001b[0m: 'age_stop_dropdown'"
     ]
    }
   ],
   "source": [
    "for key, value in split_dict.items():\n",
    "    if key == 'DF_child':\n",
    "        HEI.DQI_BF(value, 'HEIX0_BREASTFEEDING', 'child')\n",
    "        HEI.check(ped_dict['child'], value, 'child', key, arglist)\n",
    "    elif key == 'DF_young':\n",
    "        HEI.DQI_BF(value, 'HEIX0_BREASTFEEDING', 'young')\n",
    "        HEI.check(ped_dict['young'], value, 'young', key, arglist)\n",
    "    else:\n",
    "        HEI.DQI_BF(value, 'HEIX0_BREASTFEEDING', 'infant')\n",
    "        HEI.check(ped_dict['infant'], value, 'infant', key, arglist)"
   ]
  },
  {
   "cell_type": "code",
   "execution_count": 134,
   "metadata": {},
   "outputs": [],
   "source": [
    "pd.DataFrame.to_csv(y, os.path.join(basepath,'derivived','total_dataset.csv'), sep=',')"
   ]
  },
  {
   "cell_type": "code",
   "execution_count": null,
   "metadata": {},
   "outputs": [],
   "source": []
  }
 ],
 "metadata": {
  "kernelspec": {
   "display_name": "Python 3",
   "language": "python",
   "name": "python3"
  },
  "language_info": {
   "codemirror_mode": {
    "name": "ipython",
    "version": 3
   },
   "file_extension": ".py",
   "mimetype": "text/x-python",
   "name": "python",
   "nbconvert_exporter": "python",
   "pygments_lexer": "ipython3",
   "version": "3.6.5"
  }
 },
 "nbformat": 4,
 "nbformat_minor": 2
}

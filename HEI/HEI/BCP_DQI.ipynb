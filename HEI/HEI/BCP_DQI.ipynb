{
 "cells": [
  {
   "cell_type": "code",
   "execution_count": 1,
   "metadata": {},
   "outputs": [],
   "source": [
    "import os, glob\n",
    "import numpy as np\n",
    "import pandas as pd\n",
    "import warnings\n",
    "warnings.filterwarnings('ignore')\n",
    "from zipfile import ZipFile\n",
    "import argparse\n",
    "import pdb\n",
    "import HEI\n",
    "import sys"
   ]
  },
  {
   "cell_type": "markdown",
   "metadata": {},
   "source": [
    "# Dictionaries and lists"
   ]
  },
  {
   "cell_type": "code",
   "execution_count": 2,
   "metadata": {},
   "outputs": [],
   "source": [
    "important=['Participant ID','VEG0100','VEG0200','VEG0300','VEG0400','VEG0800','VEG0450','VEG0700',\n",
    "       'VEG0600','VEG0900','VEG0500','VEG0100','VEG0700','FRU0100','FRU0200','FRU0300','FRU0400',\n",
    "       'FRU0500','FRU0600','FRU0700','FRU0300','FRU0400','FRU0500','FRU0600','FRU0700',\n",
    "       'Whole Grains (ounce equivalents)','DMF0100','DMR0100','DML0100','DMN0100','DMF0200',\n",
    "       'DMR0200','DML0200','DML0300','DML0400','DCF0100','DCR0100','DCL0100','DCN0100','DYF0100',\n",
    "       'DYR0100','DYL0100','DYF0200','DYR0200','DYL0200','DYN0100','DOT0300','DOT0400','DOT0500',\n",
    "       'DOT0600','DOT0100','MRF0100','MRL0100','MRF0200','MRL0200','MRF0300','MRL0300','MRF0400',\n",
    "       'MRL0400','MCF0200','MCL0200','MRF0500','MPF0100','MPL0100','MPF0200','MFF0100','MFL0100',\n",
    "       'MFF0200','MSL0100','MSF0100','MCF0100','MCL0100','MOF0100','MOF0200','MOF0300','MOF0400',\n",
    "       'MOF0500','MOF0600','MOF0700','VEG0700','MFF0100','MFL0100','MFF0200','MSL0100','MSF0100',\n",
    "       'MOF0500','MOF0600','MOF0700','VEG0700','Sodium (mg)','Refined Grains (ounce equivalents)',\n",
    "       'Added Sugars (by Total Sugars) (g)','% Calories from SFA','Energy (kcal)',\n",
    "       'Total Polyunsaturated Fatty Acids (PUFA) (g)','Total Monounsaturated Fatty Acids (MUFA) (g)',\n",
    "       'Total Saturated Fatty Acids (SFA) (g)','FRU0100','FRU0200','DMF0200','DMR0200','DML0200','DML0300',\n",
    "       'SWT0600','BVS0400','BVS0300','BVS0500','BVS0100','BVS0200','BVS0600','BVS0700', 'SWT0600','SWT0100',\n",
    "       'SWT0200','SWT0300','SWT0700' , 'SWT0800','SWT0400','SWT0500','DOT0300' , 'DOT0400',\n",
    "       'DOT0100','DOT0200','GRR0800' , 'GRS0800',  'GRW0800','GRW0900' ,'GRS0900' , 'GRR0900' ,\n",
    "       'GRW1100' , 'GRW1200', 'GRW0400' ,'GRS0400' ,'GRR0400','VEG0800','FMC0100', 'FMC0200','DMF0100',\n",
    "       'DMR0100','DML0100','DMN0100' ,'DMF0200','DMR0200','DML0200','DOT0500', 'DOT0600','DOT0700',\n",
    "       'DOT0800','GRW0600','GRS0600','GRR0600','GRW0700','GRS0700','GRR0700','GRW1300','GRS1300']\n",
    "\n",
    "para_dict = {\n",
    "        'hei_totveg': {'parameters':[1.1], 'name': 'HEIX1_TOTALVEG'},\n",
    "        'hei_greensbeans': {'parameters':[0.2], 'name': 'HEIX2_GREEN_AND_BEAN'},\n",
    "        'hei_totfruit': {'parameters':[0.8], 'name': 'HEIX3_TOTALFRUIT'},\n",
    "        'hei_wholefruit': {'parameters':[0.4], 'name': 'HEIX4_WHOLEFRUIT'},\n",
    "        'hei_wholegrains': {'parameters':[1.5], 'name': 'HEIX5_WHOLEGRAIN'},\n",
    "        'hei_dairy': {'parameters':[1.3], 'name': 'HEIX6_TOTALDAIRY'},\n",
    "        'hei_totproteins': {'parameters':[2.5], 'name': 'HEIX7_TOTPROT'},\n",
    "        'hei_seafoodplantprot': {'parameters':[0.8], 'name': 'HEIX8_SEAPLANT_PROT'},\n",
    "        'hei_refinedgrains': {'parameters':[1.8,4.3], 'name': 'HEIX11_REFINEDGRAIN'},\n",
    "        'hei_addedsugars': {'parameters':[6.5,26], 'name': 'HEIX12_ADDEDSUGARS'},\n",
    "        'hei_SFA': {'parameters':[8,16], 'name': 'HEIX13_SATFATS'},\n",
    "        'Fats': {'parameters':[1.2,2.5], 'name': 'HEIX9_FATTYACID'},\n",
    "        'hei_sodium':{'parameters':[1.1,2.0],'name':'HEIX10_SODIUM'}\n",
    "        }\n",
    "\n",
    "ped811_dict = {\n",
    "    'hei_vegetables': {'parameters':[0.1,1.9], 'name': 'HEIX1_VEGETABLES'},\n",
    "    'hei_totfruit': {'parameters':[0.1,1.9], 'name': 'HEIX2_TOTALFRUIT'},\n",
    "    'hei_wholegrains': {'parameters':[1.0,3.5,0.0 , 8.0], 'name': 'HEIX3_WHOLEGRAIN'},\n",
    "    'hei_milk': {'parameters':[20,28,8,35], 'name': 'HEIX4_TOTALDAIRY'},\n",
    "    'hei_proteins': {'parameters':[2.5,6.0,0,10.0], 'name': 'HEIX5_PROTEIN'},\n",
    "    'hei_refinedgrains': {'parameters':[1.6,3.5], 'name': 'HEIX6_REFINEDGRAIN'},\n",
    "    'hei_fruitjuice': {'parameters':[0.1,6.0], 'name': 'HEIX7_FRUITJUICE'},\n",
    "    'hei_SSB': {'parameters':[0.1,4.0], 'name': 'HEIX8_SSB'},\n",
    "    'hei_sweets': {'parameters':[0.1,1.0], 'name': 'HEIX9_SWEETS'},\n",
    "    'hei_salty': {'parameters':[0.1,1.0], 'name': 'HEIX10_SALTY'}\n",
    "        }\n",
    "\n",
    "ped1224_dict ={\n",
    "    'hei_vegetables': {'parameters':[0.1,7.9], 'name': 'HEIX1_VEGETABLES'},\n",
    "    'hei_totfruit': {'parameters':[0.1,7.9], 'name': 'HEIX2_TOTALFRUIT'},\n",
    "    'hei_wholegrains': {'parameters':[1.5, 5.5, 0, 8.0], 'name': 'HEIX3_WHOLEGRAIN'},\n",
    "    'hei_milk': {'parameters':[14.0,18.0,8.0,24.0], 'name': 'HEIX4_TOTALDAIRY'},\n",
    "    'hei_proteins': {'parameters':[2.0,3.0,0,6.0], 'name': 'HEIX5_PROTEIN'},\n",
    "    'hei_refinedgrains': {'parameters':[1.9, 4.2], 'name': 'HEIX6_REFINEDGRAIN'},\n",
    "    'hei_fruitjuice': {'parameters':[4.1,6.0], 'name': 'HEIX7_FRUITJUICE'},\n",
    "    'hei_SSB': {'parameters':[0.1,4.0], 'name': 'HEIX8_SSB'},\n",
    "    'hei_sweets': {'parameters':[0.1,1.0], 'name': 'HEIX9_SWEETS'},\n",
    "    'hei_salty': {'parameters':[0.1,1.0], 'name': 'HEIX10_SALTY'}\n",
    "        }\n",
    "\n",
    "ped08_dict = {\n",
    "    'hei_vegetables': {'parameters':[0,0], 'name': 'HEIX1_VEGETABLES'},\n",
    "    'hei_totfruit': {'parameters':[0,0], 'name': 'HEIX2_TOTALFRUIT'},\n",
    "    'hei_wholegrains': {'parameters':[0,0,0,0], 'name': 'HEIX3_WHOLEGRAIN'},\n",
    "    'hei_dairy': {'parameters':[0,0,0,0], 'name': 'HEIX4_TOTALDAIRY'},\n",
    "    'hei_proteins': {'parameters':[0,0,0,0], 'name': 'HEIX5_PROTEIN'},\n",
    "    'hei_refinedgrains': {'parameters':[0,0], 'name': 'HEIX6_REFINEDGRAIN'},\n",
    "    'hei_fruitjuice': {'parameters':[0,0], 'name': 'HEIX7_FRUITJUICE'},\n",
    "    'hei_SSB': {'parameters':[0,0], 'name': 'HEIX8_SSB'},\n",
    "    'hei_sweets': {'parameters':[0,0], 'name': 'HEIX9_SWEETS'},\n",
    "    'hei_salty': {'parameters':[0,0], 'name': 'HEIX10_SALTY'},\n",
    "    'hei_cereal': {'parameters':[0,0], 'name': 'HEIX11_CEREAL'}\n",
    "    }\n",
    "\n",
    "ped_dict={\n",
    "    'young': ped811_dict,\n",
    "    'child':ped1224_dict,\n",
    "    'infant':ped08_dict\n",
    "}\n",
    "\n",
    "\n",
    "hei_dict={\n",
    "      'hei_totveg':\n",
    "      ['VEG0100','VEG0200','VEG0300','VEG0400','VEG0800','VEG0450','VEG0700','VEG0600','VEG0900','VEG0500'],\n",
    "      'hei_greensbeans':\n",
    "      ['VEG0100','VEG0700'],\n",
    "      'hei_totfruit':\n",
    "      ['FRU0100','FRU0200','FRU0300','FRU0400','FRU0500','FRU0600','FRU0700'],\n",
    "      'hei_wholefruit':\n",
    "      ['FRU0300','FRU0400','FRU0500','FRU0600','FRU0700'],\n",
    "      'hei_wholegrains':\n",
    "      ['Whole Grains (ounce equivalents)'],\n",
    "      'hei_dairy':\n",
    "      ['DMF0100','DMR0100','DML0100','DMN0100','DMF0200','DMR0200','DML0200',\n",
    "                   'DML0300','DML0400','DCF0100','DCR0100','DCL0100','DCN0100','DYF0100',\n",
    "                   'DYR0100','DYL0100','DYF0200','DYR0200','DYL0200','DYN0100',\n",
    "                   'DOT0300','DOT0400','DOT0500','DOT0600','DOT0100'],\n",
    "      'hei_totproteins':\n",
    "      ['MRF0100','MRL0100','MRF0200','MRL0200','MRF0300','MRL0300','MRF0400',\n",
    "                         'MRL0400','MCF0200','MCL0200','MRF0500','MPF0100','MPL0100','MPF0200',\n",
    "                         'MFF0100','MFL0100','MFF0200','MSL0100',\n",
    "                         'MSF0100','MCF0100','MCL0100','MOF0100','MOF0200','MOF0300','MOF0400','MOF0500',\n",
    "                         'MOF0600','MOF0700','VEG0700'],\n",
    "      'hei_seafoodplantprot':\n",
    "      ['MFF0100','MFL0100','MFF0200','MSL0100','MSF0100','MOF0500','MOF0600','MOF0700','VEG0700'],\n",
    "      'hei_sodium':\n",
    "      ['Sodium (mg)'],\n",
    "      'hei_refinedgrains':\n",
    "      ['Refined Grains (ounce equivalents)'],\n",
    "      'hei_addedsugars':\n",
    "      ['Added Sugars (by Total Sugars) (g)'],\n",
    "      'ripctsfa': ['% Calories from SFA','Energy (kcal)'],\n",
    "     'energy':\n",
    "     ['Energy (kcal)'],\n",
    "     'fats':\n",
    "     ['Total Polyunsaturated Fatty Acids (PUFA) (g)','Total Monounsaturated Fatty Acids (MUFA) (g)',\n",
    "     'Total Saturated Fatty Acids (SFA) (g)']\n",
    "     }\n",
    "\n",
    "hei_ped_dict={'hei_totveg':\n",
    "        ['VEG0100','VEG0200','VEG0300','VEG0400','VEG0800','VEG0450','VEG0700','VEG0600','VEG0900','VEG0500'],\n",
    "        'hei_greensbeans':\n",
    "        ['VEG0100','VEG0700'],\n",
    "        'hei_totfruit':\n",
    "        ['FRU0100','FRU0200','FRU0300','FRU0400','FRU0500','FRU0600','FRU0700'],\n",
    "        'hei_wholefruit':\n",
    "        ['FRU0300','FRU0400','FRU0500','FRU0600','FRU0700'],\n",
    "        'hei_wholegrains':\n",
    "        ['Whole Grains (ounce equivalents)'],\n",
    "        'hei_dairy':\n",
    "        ['DMF0100','DMR0100','DML0100','DMN0100','DMF0200','DMR0200','DML0200',\n",
    "                     'DML0300','DML0400','DCF0100','DCR0100','DCL0100','DCN0100','DYF0100',\n",
    "                     'DYR0100','DYL0100','DYF0200','DYR0200','DYL0200','DYN0100',\n",
    "                     'DOT0300','DOT0400','DOT0500','DOT0600','DOT0100'],\n",
    "        'hei_totproteins':\n",
    "        ['MRF0100','MRL0100','MRF0200','MRL0200','MRF0300','MRL0300','MRF0400',\n",
    "                           'MRL0400','MCF0200','MCL0200','MRF0500','MPF0100','MPL0100','MPF0200',\n",
    "                           'MFF0100','MFL0100','MFF0200','MSL0100',\n",
    "                           'MSF0100','MCF0100','MCL0100','MOF0100','MOF0200','MOF0300','MOF0400','MOF0500',\n",
    "                           'MOF0600','MOF0700','VEG0700'],\n",
    "        'hei_seafoodplantprot':\n",
    "        ['MFF0100','MFL0100','MFF0200','MSL0100','MSF0100','MOF0500','MOF0600','MOF0700','VEG0700'],\n",
    "        'hei_refinedgrains':\n",
    "        ['Refined Grains (ounce equivalents)'],\n",
    "       'energy':\n",
    "       ['Energy (kcal)'],\n",
    "        'hei_fruitjuice':\n",
    "        ['FRU0100','FRU0200'],\n",
    "        'hei_SSB':\n",
    "        ['DMF0200','DMR0200','DML0200','DML0300','SWT0600','BVS0400','BVS0300','BVS0500','BVS0100','BVS0200','BVS0600','BVS0700', 'SWT0600'],\n",
    "        'chocolate_candies':\n",
    "        ['SWT0100'],\n",
    "        'candies':\n",
    "        ['SWT0200'],\n",
    "        'frosting':\n",
    "        ['SWT0300'],\n",
    "        'sweet_sauce':\n",
    "        ['SWT0700' , 'SWT0800' ],\n",
    "        'sugar':\n",
    "        ['SWT0400' ],\n",
    "        'syrups':\n",
    "        ['SWT0500' ],\n",
    "        'Pudding':\n",
    "        ['DOT0300' , 'DOT0400'],\n",
    "        'icecream':\n",
    "        ['DOT0100' ],\n",
    "        'nondairy_treat':\n",
    "        ['DOT0200' ],\n",
    "        'baked_good':\n",
    "        ['GRR0800' , 'GRS0800',  'GRW0800' ],\n",
    "        'chips':\n",
    "        ['GRW0900' ,'GRS0900' , 'GRR0900' , 'GRW1100' , 'GRW1200', 'GRW0400' ,'GRS0400' ,'GRR0400' ],\n",
    "        'fries':\n",
    "        ['VEG0800' ],\n",
    "        'other_fried':\n",
    "        ['FMC0100', 'FMC0200' ],\n",
    "        'milk':\n",
    "        ['DMF0100','DMR0100','DML0100','DMN0100' ,'DMF0200','DMR0200','DML0200','DOT0500', 'DOT0600'],\n",
    "        'formula_foz':\n",
    "        ['DOT0700', 'DOT0800'],\n",
    "        'cereal_oz':\n",
    "        ['GRW0600','GRS0600','GRR0600','GRW0700','GRS0700','GRR0700'],\n",
    "        'bbcereal_hcup':\n",
    "        ['GRW1300','GRS1300']\n",
    "        }\n",
    "\n",
    "conv_dict={\n",
    "    'hei_fruitjuice':4,\n",
    "    'hei_SSB':8,\n",
    "    'chocolate_candies':40,\n",
    "    'candies':15,\n",
    "    'frosting':35,\n",
    "    'sugar':4,\n",
    "    'syrups':.25,\n",
    "    'Pudding':1,\n",
    "    'icecream':.5,\n",
    "    'nondairy_treat':85,\n",
    "    'baked_good':55,\n",
    "    'fries': 70,\n",
    "    'formula_foz':5,\n",
    "    'bbcereal_hcup':.5\n",
    "}\n",
    "\n",
    "make_hei_dict={\n",
    "    'hei_sweets' :\n",
    "    ['chocolate_candies','candies','frosting','sweet_sauce','sugar','syrups','Pudding', 'icecream','nondairy_treat','baked_good'],\n",
    "    'hei_salty' :\n",
    "    ['chips','other_fried','fries'],\n",
    "    'hei_vegetables':\n",
    "    ['hei_totveg', 'hei_greensbeans'],\n",
    "    'hei_proteins':\n",
    "    ['hei_totproteins','hei_seafoodplantprot'],\n",
    "    'hei_milk':\n",
    "    ['hei_dairy','formula_foz'],\n",
    "    'hei_cereal':\n",
    "    ['cereal_oz', 'bbcereal_hcup']\n",
    "}\n",
    "\n",
    "interest = ['Participant ID','Energy (kcal)', 'hei_totveg', 'hei_greensbeans', 'hei_totfruit', 'hei_wholefruit', 'hei_wholegrains','hei_dairy', 'hei_totproteins', 'hei_seafoodplantprot', 'Total Polyunsaturated Fatty Acids (PUFA) (g)',\n",
    "        'Total Monounsaturated Fatty Acids (MUFA) (g)', 'Total Saturated Fatty Acids (SFA) (g)',\n",
    "        'hei_sodium', 'hei_refinedgrains', 'hei_addedsugars', 'ripctsfa','energy','% Calories from SFA']\n",
    "\n",
    "ped_interest = ['Participant ID','Energy (kcal)', 'hei_totveg', 'hei_greensbeans', 'hei_totfruit', 'hei_wholefruit', 'hei_wholegrains','hei_dairy', 'hei_totproteins', 'hei_seafoodplantprot',\n",
    "        'hei_refinedgrains', 'hei_addedsugars', 'ripctsfa','energy','chocolate_candies','candies','frosting','sweet_sauce','sugar','syrups','Pudding', 'icecream','nondairy_treat','baked_good',\n",
    "        'chips','other_fried','fries']\n"
   ]
  },
  {
   "cell_type": "code",
   "execution_count": 3,
   "metadata": {},
   "outputs": [],
   "source": [
    "basepath='/Users/gracer/Google Drive/BCP/data'"
   ]
  },
  {
   "cell_type": "code",
   "execution_count": 4,
   "metadata": {},
   "outputs": [],
   "source": [
    "arglist={'BASEPATH': basepath, \n",
    "         'CHILD': True, \n",
    "         'NAMES': 'testies', \n",
    "         'OPTS': ['Chil'], \n",
    "         'SAVE':os.path.join(basepath, 'derivived'),\n",
    "         'XTRA':'total_dataset.csv'}"
   ]
  },
  {
   "cell_type": "code",
   "execution_count": 5,
   "metadata": {},
   "outputs": [],
   "source": [
    "for (dirpath, dirnames, filenames) in os.walk(basepath):\n",
    "        for filename in filenames:\n",
    "            if filename.endswith('.zip'):\n",
    "                tmppath=os.sep.join([dirpath, filename])\n",
    "                with ZipFile(tmppath, 'r') as zipObj:\n",
    "                   # Get a list of all archived file names from the zip\n",
    "                   listOfFileNames = zipObj.namelist()\n",
    "                   # Iterate over the file names\n",
    "                   for fileName in listOfFileNames:\n",
    "                       # Check filename endswith txt\n",
    "                        if fileName.endswith('04.txt'):\n",
    "                            zipObj.extract(fileName, os.path.join(basepath,'temp_txt'))\n",
    "                        if fileName.endswith('09.txt'):\n",
    "                            zipObj.extract(fileName, os.path.join(basepath,'temp_txt'))\n",
    "infile = os.path.join(basepath,'temp_txt')"
   ]
  },
  {
   "cell_type": "code",
   "execution_count": 6,
   "metadata": {},
   "outputs": [
    {
     "name": "stdout",
     "output_type": "stream",
     "text": [
      "this is the item Chil\n",
      "Chil\n",
      "Chil\n",
      "Chil\n",
      "Final dataframe size:  (931, 226)\n"
     ]
    }
   ],
   "source": [
    "a=HEI.file_org(infile, arglist, important)"
   ]
  },
  {
   "cell_type": "code",
   "execution_count": 7,
   "metadata": {},
   "outputs": [],
   "source": [
    "df=a[arglist['OPTS'][0]]"
   ]
  },
  {
   "cell_type": "code",
   "execution_count": 8,
   "metadata": {},
   "outputs": [
    {
     "data": {
      "text/plain": [
       "(659, 382)"
      ]
     },
     "execution_count": 8,
     "metadata": {},
     "output_type": "execute_result"
    }
   ],
   "source": [
    "df.shape"
   ]
  },
  {
   "cell_type": "code",
   "execution_count": 9,
   "metadata": {},
   "outputs": [],
   "source": [
    "def path_finder(arglist):\n",
    "    #read in the data\n",
    "    df1=os.path.join(arglist['BASEPATH'],arglist['SAVE'],arglist['XTRA'])\n",
    "    print(df1)\n",
    "    demo_df=pd.read_csv(df1, sep=',',encoding='latin1')\n",
    "    return(demo_df)"
   ]
  },
  {
   "cell_type": "code",
   "execution_count": 10,
   "metadata": {},
   "outputs": [],
   "source": [
    "def refactor(infant_df):\n",
    "    infant_df['breastfed']=infant_df['breastfed'].replace({'no': 0, 'yes': 1})\n",
    "    infant_df['any_formula']=infant_df['any_formula'].replace({'no': 0, 'yes': 1,'NaN':'NA'})\n",
    "    infant_df['regular_formula']=infant_df['regular_formula'].replace({'no': 0, 'yes': 1,'NaN':'NA','not_answered':'NA'})\n",
    "    infant_df['age_fed_dropdown']=infant_df['age_fed_dropdown'].replace({'no': 0, 'yes': 1,'NaN':'NA','not_answered':'NA','never_not_yet':0})\n",
    "    infant_df['age_stop_dropdown']=infant_df['age_stop_dropdown'].replace({'no': 0, 'yes': 1,'NaN':'NA','not_answered':'NA','never_not_yet':0})\n",
    "    return(infant_df)"
   ]
  },
  {
   "cell_type": "code",
   "execution_count": 11,
   "metadata": {},
   "outputs": [],
   "source": [
    "def ager(x):\n",
    "    # Get the age in months of each recall\n",
    "    x['DoB'] = pd.to_datetime(x['DoB'])\n",
    "    x['Date of Intake'] = pd.to_datetime(x['Date of Intake'])\n",
    "    x['Date_taken'] = pd.to_datetime(x['Date_taken'])\n",
    "    \n",
    "    x['Age_at_Date_of_Intake'] = x['Date of Intake'] - x['DoB']\n",
    "    x['Age_at_Date_of_Anthros'] = x['Date_taken'] - x['DoB']\n",
    "    \n",
    "    x['Age_at_Date_of_Intake']= x['Age_at_Date_of_Intake']/ np.timedelta64(1, 'M')\n",
    "    x['Age_at_Date_of_Anthros']= x['Age_at_Date_of_Anthros']/ np.timedelta64(1, 'M')\n",
    "    return(x)"
   ]
  },
  {
   "cell_type": "code",
   "execution_count": 12,
   "metadata": {},
   "outputs": [],
   "source": [
    "def BCP(diet_df, arglist):\n",
    "    diet_df=df\n",
    "    demo_df = path_finder(arglist)\n",
    "    y='Participant ID'\n",
    "    diet_df[y]=diet_df[y].convert_objects(convert_numeric=True)\n",
    "    demo_df[y]=demo_df[y].convert_objects(convert_numeric=True)\n",
    "    unique1 = list(set(demo_df[y])-set(diet_df[y])) \n",
    "    print(unique1)\n",
    "    unique2 = list(set(diet_df[y])-set(demo_df[y])) \n",
    "    print(unique2)\n",
    "    all_data=demo_df.merge(diet_df, on=[y])\n",
    "    all_data=ager(all_data)\n",
    "    all_data['Identifiers_visit']=all_data.Identifiers.str.split('x').str[-1].str.split('m').str[0]\n",
    "\n",
    "    return(all_data)"
   ]
  },
  {
   "cell_type": "code",
   "execution_count": 13,
   "metadata": {},
   "outputs": [
    {
     "name": "stdout",
     "output_type": "stream",
     "text": [
      "/Users/gracer/Google Drive/BCP/data/derivived/total_dataset.csv\n",
      "[986114, 794626, 947206, 999947, 968715, 826398, 714783, 682023, 218663, 493610, 298032, 62519, 138813, 841279, 262208, 495169, 787525, 505926, 146505, 738379, 986700, 710741, 680534, 871514, 683099, 850013, 705639, 730727, 410729, 863856, 124529, 747645, 476291, 713347, 820360, 704148, 890518, 302746, 505499, 866461, 251549, 824479, 222881, 569511, 640680, 945323, 387247, 951984, 294064, 125105, 810675, 529587, 861367, 232633, 764612, 562893, 633038, 716498, 427732, 200919, 474330, 375518, 272097, 945890, 509669, 960758, 456442, 914176, 277762, 261379, 655107, 657158, 147207, 100619, 931085, 780046, 340751, 613137, 364820, 437532, 223008, 862498, 536876, 523054, 963376, 243511, 866106, 469822, 662338, 904006, 995663, 376673, 736609, 488291, 878949, 709477, 351080, 575848, 309615, 759162, 387450, 887679, 987008, 115072, 89476, 229768, 534927, 888211, 557468, 295330, 236452, 943541, 912823, 672698, 969150, 318409, 826321, 425428, 209364, 617942, 36831, 865762, 317415, 760812, 513010, 334324, 851956, 197622, 826360, 455675, 671741]\n",
      "[950202, 546401, 757282, 624802, 605985, 408997, 452200, 67688, 495082, 456907, 801901, 740371, 859865, 761141, 415958, 158643, 110006, 627929, 468570, 132476]\n"
     ]
    }
   ],
   "source": [
    "x=BCP(df, arglist)"
   ]
  },
  {
   "cell_type": "code",
   "execution_count": 44,
   "metadata": {},
   "outputs": [],
   "source": [
    "x['Identifiers_visit']=x['Identifiers_visit'].astype(np.float16)"
   ]
  },
  {
   "cell_type": "code",
   "execution_count": 68,
   "metadata": {
    "scrolled": true
   },
   "outputs": [],
   "source": [
    "x['Age_at_Date_of_Intake']=x['Age_at_Date_of_Intake'].astype(np.float16)\n",
    "# x['child_feeding_practice-any_formula']=x['child_feeding_practice-any_formula'].astype(np.str)"
   ]
  },
  {
   "cell_type": "code",
   "execution_count": 81,
   "metadata": {},
   "outputs": [],
   "source": [
    "x['child_feeding_practice-breastfed']=x['child_feeding_practice-breastfed'].astype('category')"
   ]
  },
  {
   "cell_type": "code",
   "execution_count": 82,
   "metadata": {},
   "outputs": [
    {
     "data": {
      "text/plain": [
       "nan    10146\n",
       "yes     4012\n",
       "no         8\n",
       "Name: child_feeding_practice-breastfed, dtype: int64"
      ]
     },
     "execution_count": 82,
     "metadata": {},
     "output_type": "execute_result"
    }
   ],
   "source": [
    "x['child_feeding_practice-breastfed'].value_counts()"
   ]
  },
  {
   "cell_type": "code",
   "execution_count": 83,
   "metadata": {},
   "outputs": [
    {
     "name": "stdout",
     "output_type": "stream",
     "text": [
      "hei_totveg\n",
      "hei_greensbeans\n",
      "hei_totfruit\n",
      "hei_wholefruit\n",
      "hei_wholegrains\n",
      "hei_dairy\n",
      "hei_totproteins\n",
      "hei_seafoodplantprot\n",
      "hei_refinedgrains\n",
      "energy\n",
      "hei_fruitjuice\n",
      "hei_SSB\n",
      "chocolate_candies\n",
      "candies\n",
      "frosting\n",
      "sweet_sauce\n",
      "sugar\n",
      "syrups\n",
      "Pudding\n",
      "icecream\n",
      "nondairy_treat\n",
      "baked_good\n",
      "chips\n",
      "fries\n",
      "other_fried\n",
      "milk\n",
      "formula_foz\n",
      "cereal_oz\n",
      "bbcereal_hcup\n"
     ]
    }
   ],
   "source": [
    "y=HEI.make_ped_components(hei_ped_dict, x, conv_dict)"
   ]
  },
  {
   "cell_type": "code",
   "execution_count": 84,
   "metadata": {},
   "outputs": [
    {
     "name": "stdout",
     "output_type": "stream",
     "text": [
      "START\n",
      "{'hei_sweets': ['chocolate_candies', 'candies', 'frosting', 'sweet_sauce', 'sugar', 'syrups', 'Pudding', 'icecream', 'nondairy_treat', 'baked_good'], 'hei_salty': ['chips', 'other_fried', 'fries'], 'hei_vegetables': ['hei_totveg', 'hei_greensbeans'], 'hei_proteins': ['hei_totproteins', 'hei_seafoodplantprot'], 'hei_milk': ['hei_dairy', 'formula_foz'], 'hei_cereal': ['cereal_oz', 'bbcereal_hcup']}\n"
     ]
    }
   ],
   "source": [
    "que=HEI.make_hei(y, make_hei_dict)\n"
   ]
  },
  {
   "cell_type": "code",
   "execution_count": 85,
   "metadata": {},
   "outputs": [],
   "source": [
    "def splitter(DF):\n",
    "#     DF_child=DF.query('Age_at_Date_of_Intake >= 12')\n",
    "    DF_child=DF.query('Age_at_Date_of_Intake >= 12 & Identifiers_visit >= 12 & Age_at_Date_of_Anthros >= 12')\n",
    "#     DF_young=DF.query('Age_at_Date_of_Intake < 12 and Age_at_Date_of_Intake >= 8')\n",
    "    DF_young=DF.query('Age_at_Date_of_Intake < 12 and Age_at_Date_of_Intake >= 8 & Identifiers_visit < 12 and Identifiers_visit >= 8 & Age_at_Date_of_Anthros < 12 and Age_at_Date_of_Anthros >= 8')\n",
    "#     DF_infant=DF.query('Age_at_Date_of_Intake < 8')\n",
    "    DF_infant=DF.query('Age_at_Date_of_Intake < 8 & Identifiers_visit < 8 & Age_at_Date_of_Anthros < 8')\n",
    "#     DF_infant['start_regular_formula']=DF_infant.iloc[:,[15]]\n",
    "#     DF_infant['start_regular_formula']=DF_infant['start_regular_formula'].astype('float32')\n",
    "    df={'DF_child':DF_child, 'DF_young':DF_young, 'DF_infant':DF_infant}\n",
    "    return(df)"
   ]
  },
  {
   "cell_type": "code",
   "execution_count": 86,
   "metadata": {},
   "outputs": [],
   "source": [
    "split_dict=splitter(que)"
   ]
  },
  {
   "cell_type": "code",
   "execution_count": 87,
   "metadata": {},
   "outputs": [
    {
     "data": {
      "text/plain": [
       "count    237.000000\n",
       "mean      10.046875\n",
       "std        1.239258\n",
       "min        8.210938\n",
       "25%        8.867188\n",
       "50%        9.757812\n",
       "75%       11.101562\n",
       "max       11.992188\n",
       "Name: Age_at_Date_of_Intake, dtype: float64"
      ]
     },
     "execution_count": 87,
     "metadata": {},
     "output_type": "execute_result"
    }
   ],
   "source": [
    "split_dict['DF_young']['Age_at_Date_of_Intake'].describe()"
   ]
  },
  {
   "cell_type": "code",
   "execution_count": 88,
   "metadata": {},
   "outputs": [
    {
     "data": {
      "text/plain": [
       "nan             326\n",
       "not_answered     20\n",
       "yes              18\n",
       "Name: child_feeding_practice-any_formula, dtype: int64"
      ]
     },
     "execution_count": 88,
     "metadata": {},
     "output_type": "execute_result"
    }
   ],
   "source": [
    "split_dict['DF_infant']['child_feeding_practice-any_formula'].value_counts()"
   ]
  },
  {
   "cell_type": "code",
   "execution_count": 90,
   "metadata": {},
   "outputs": [
    {
     "data": {
      "text/plain": [
       "(364, 483)"
      ]
     },
     "execution_count": 90,
     "metadata": {},
     "output_type": "execute_result"
    }
   ],
   "source": [
    "split_dict['DF_infant'].shape"
   ]
  },
  {
   "cell_type": "code",
   "execution_count": 92,
   "metadata": {
    "scrolled": true
   },
   "outputs": [
    {
     "data": {
      "text/plain": [
       "nan             326\n",
       "not_answered     20\n",
       "yes              18\n",
       "Name: child_feeding_practice-any_formula, dtype: int64"
      ]
     },
     "execution_count": 92,
     "metadata": {},
     "output_type": "execute_result"
    }
   ],
   "source": [
    "split_dict['DF_infant']['child_feeding_practice-any_formula'].value_counts()"
   ]
  },
  {
   "cell_type": "code",
   "execution_count": 95,
   "metadata": {},
   "outputs": [],
   "source": [
    "split_dict['DF_infant']['child_feeding_practice-any_formula']=split_dict['DF_infant']['child_feeding_practice-any_formula'].astype('category')\n",
    "split_dict['DF_infant']['child_feeding_practice-breastfed']=split_dict['DF_infant']['child_feeding_practice-breastfed'].astype('category')"
   ]
  },
  {
   "cell_type": "code",
   "execution_count": 124,
   "metadata": {},
   "outputs": [],
   "source": [
    "def DQI_BF(df, output, age_group):\n",
    "    if age_group == 'infant':\n",
    "        df[output]=[15 if row['child_feeding_practice-breastfed'] == 'yes' and row['child_feeding_practice-any_formula'] != 'yes' else 10 if row['child_feeding_practice-breastfed'] == 'yes' and row['child_feeding_practice-any_formula'] == 'yes'else 5 if row['child_feeding_practice-breastfed'] == 'no' else 'NA' for index, row in df.iterrows()]\n",
    "    else:\n",
    "        df[output]=[10 if row['child_feeding_practice-age_stop_dropdown'] != 'yes' and row['child_feeding_practice-breastfed'] == 'yes' else 0 for index, row in df.iterrows()]\n",
    "        \n",
    "        \n",
    "        \n",
    "        "
   ]
  },
  {
   "cell_type": "code",
   "execution_count": 125,
   "metadata": {},
   "outputs": [],
   "source": [
    "DQI_BF(split_dict['DF_infant'], 'HEIX0_BREASTFEEDING', 'infant')"
   ]
  },
  {
   "cell_type": "code",
   "execution_count": 126,
   "metadata": {},
   "outputs": [
    {
     "data": {
      "text/plain": [
       "NA    326\n",
       "15     20\n",
       "10     18\n",
       "Name: HEIX0_BREASTFEEDING, dtype: int64"
      ]
     },
     "execution_count": 126,
     "metadata": {},
     "output_type": "execute_result"
    }
   ],
   "source": [
    "split_dict['DF_infant']['HEIX0_BREASTFEEDING'].value_counts()"
   ]
  },
  {
   "cell_type": "code",
   "execution_count": 120,
   "metadata": {},
   "outputs": [],
   "source": [
    "DQI_BF(split_dict['DF_child'], 'HEIX0_BREASTFEEDING', 'child')"
   ]
  },
  {
   "cell_type": "code",
   "execution_count": 121,
   "metadata": {},
   "outputs": [
    {
     "data": {
      "text/plain": [
       "0     2203\n",
       "10     307\n",
       "Name: HEIX0_BREASTFEEDING, dtype: int64"
      ]
     },
     "execution_count": 121,
     "metadata": {},
     "output_type": "execute_result"
    }
   ],
   "source": [
    "split_dict['DF_child']['HEIX0_BREASTFEEDING'].value_counts()"
   ]
  },
  {
   "cell_type": "code",
   "execution_count": 122,
   "metadata": {},
   "outputs": [],
   "source": [
    "DQI_BF(split_dict['DF_young'], 'HEIX0_BREASTFEEDING', 'young')"
   ]
  },
  {
   "cell_type": "code",
   "execution_count": 123,
   "metadata": {},
   "outputs": [
    {
     "data": {
      "text/plain": [
       "0     189\n",
       "10     48\n",
       "Name: HEIX0_BREASTFEEDING, dtype: int64"
      ]
     },
     "execution_count": 123,
     "metadata": {},
     "output_type": "execute_result"
    }
   ],
   "source": [
    "split_dict['DF_young']['HEIX0_BREASTFEEDING'].value_counts()"
   ]
  },
  {
   "cell_type": "markdown",
   "metadata": {},
   "source": [
    "## Important Feeding stuff\n",
    "* DoB\n",
    "* Started Any Formula (Months old) NA - No Formula\n",
    "* Started Regular (in months)\n",
    "* Ended Formula (months old) NA - No Formula\n",
    "* Started Solids (months old)\n",
    "* Ended breastmilk (months old)\n",
    "* Feeding Practice (First 4 months)\n",
    "* child_feeding_practice-age_any_formula\n",
    "* child_feeding_practice-age_fed\n",
    "* child_feeding_practice-age_fed_dropdown\n",
    "* child_feeding_practice-age_fed_status\n",
    "* child_feeding_practice-age_regular_formula\n",
    "* child_feeding_practice-age_regular_formula_status\n",
    "* child_feeding_practice-age_stop\n",
    "* child_feeding_practice-age_stop_dropdown\n",
    "* child_feeding_practice-age_stop_formula\n",
    "* child_feeding_practice-age_stop_formula_dropdown\n",
    "* child_feeding_practice-age_stop_formula_status\n",
    "* child_feeding_practice-age_stop_status\n",
    "* child_feeding_practice-any_formula\n",
    "* child_feeding_practice-breastfed\n",
    "* child_feeding_practice-regular_formula\n",
    "* Date_taken\n",
    "* Date of Intake"
   ]
  },
  {
   "cell_type": "code",
   "execution_count": 159,
   "metadata": {},
   "outputs": [],
   "source": [
    "def DQI(df, inputt, output, parameter):\n",
    "    if inputt in ['hei_salty','hei_sweets','hei_SSB','hei_fruitjuice']:\n",
    "        print('now calculating %s'%output)\n",
    "        temp=df[inputt]\n",
    "        MIN=parameter[0]\n",
    "        MAX=parameter[1]\n",
    "        df[output]=[2.5 if MIN < x <= MAX else 0 if x > MAX else 5 for x in temp]\n",
    "    # No limit\n",
    "    elif inputt in ['hei_vegetables', 'hei_totfruit']:\n",
    "        print('now calculating %s'%output)\n",
    "        temp=df[inputt]\n",
    "        MIN=parameter[0]\n",
    "        MAX=parameter[1]\n",
    "        df[output]=[2.5 if MIN < x <= MAX else 0 if x == MIN else 5 for x in temp]\n",
    "    # Upper limit\n",
    "    elif inputt in ['hei_milk','hei_proteins']:\n",
    "        print('now calculating %s'%output)\n",
    "        temp=df[inputt]\n",
    "        FARMIN = parameter[0]\n",
    "        FARMAX = parameter[1]\n",
    "        MIN = parameter[2]\n",
    "        MAX = parameter[3]\n",
    "        df[output]=[5 if MIN < x <= MAX else 2.5 if MIN < x <= FARMIN or MAX < x <=FARMAX else 0 for x in temp]\n",
    "    elif inputt in ['hei_wholegrains']:\n",
    "        print('now calculating %s'%output)\n",
    "        temp=df[inputt]\n",
    "        FARMIN = parameter[0]\n",
    "        FARMAX = parameter[1]\n",
    "        MIN = parameter[2]\n",
    "        MAX = parameter[3]\n",
    "        df[output]=[2.5 if MIN < x <= MAX else 1.5 if MIN < x <= FARMIN or MAX < x <=FARMAX else 0 for x in temp]\n",
    "    elif inputt in ['hei_refinedgrains']:\n",
    "        print('now calculating %s'%output)\n",
    "        temp=df[inputt]\n",
    "        MIN=parameter[0]\n",
    "        MAX=parameter[1]\n",
    "        df[output]=[1.5 if MIN < x <= MAX else 0 if x > MAX else 2.5 for x in temp]\n",
    "    return(df)"
   ]
  },
  {
   "cell_type": "code",
   "execution_count": 160,
   "metadata": {},
   "outputs": [],
   "source": [
    "def infant_DQI(df, inputt, output, parameter):\n",
    "    #inputt, output, parameter\n",
    "    MIN=0\n",
    "    if inputt in ['hei_salty','hei_sweets','hei_SSB','hei_fruitjuice','hei_refinedgrains','hei_vegetables', 'hei_totfruit',\n",
    "    'hei_wholegrains','hei_dairy','hei_proteins', 'hei_cereal']:\n",
    "        print('now calculating infant %s'%output)\n",
    "        temp=df[inputt]\n",
    "        df[output]=[5 if x == MIN else 0 for x in temp]\n",
    "    return(df)"
   ]
  },
  {
   "cell_type": "code",
   "execution_count": 172,
   "metadata": {},
   "outputs": [],
   "source": [
    "def check(dic, data, name, option, arglist):\n",
    "    if arglist['CHILD'] == False:\n",
    "        df=data\n",
    "        toSum=['HEIX1_TOTALVEG','HEIX2_GREEN_AND_BEAN' , 'HEIX3_TOTALFRUIT' , 'HEIX4_WHOLEFRUIT' ,\n",
    "               'HEIX5_WHOLEGRAIN' , 'HEIX6_TOTALDAIRY' , 'HEIX7_TOTPROT' , 'HEIX8_SEAPLANT_PROT' , 'HEIX9_FATTYACID' ,\n",
    "               'HEIX10_SODIUM' , 'HEIX11_REFINEDGRAIN' , 'HEIX12_ADDEDSUGARS' , 'HEIX13_SATFATS']\n",
    "        for key,values in dic.items():\n",
    "            print('Calculating score for %s'%key)\n",
    "            if key in ['hei_totveg','hei_greensbeans', 'hei_totfruit', 'hei_wholefruit', 'hei_totproteins', 'hei_seafoodplantprot',\n",
    "                        'hei_wholegrains', 'hei_dairy','Fats']:\n",
    "                if key == 'Fats':\n",
    "                    adeq_check(df, key, values['name'], values['parameters'])\n",
    "                else:\n",
    "                    adeq_check(df, key, values['name'], values['parameters'][0])\n",
    "            if key in ['hei_sodium','hei_refinedgrains','hei_addedsugars','hei_SFA']:\n",
    "                mod_check(df, key, values['name'], values['parameters'])\n",
    "        df['HEI2015_TOTAL_SCORE']=df[df.columns.intersection(toSum)].sum(axis=1)\n",
    "        concat_filepath = os.path.join(arglist['SAVE'],'%s_%s_HEI.csv'%(option, name))\n",
    "        df.to_csv(concat_filepath, index=False, sep=\",\", header=True)\n",
    "    else:\n",
    "        df=data\n",
    "        for key,values in dic.items():\n",
    "            if key in ['hei_vegetables','hei_totfruit','hei_wholegrains','hei_dairy','hei_milk','hei_proteins','hei_refinedgrains',\n",
    "            'hei_fruitjuice','hei_SSB','hei_sweets','hei_salty','hei_cereal']:\n",
    "                print('Calculating score for %s'%key)\n",
    "                if name != 'infant':\n",
    "                    toSum=['HEIX0_BREASTFEEDING','HEIX1_VEGETABLES','HEIX2_TOTALFRUIT' , 'HEIX3_WHOLEGRAIN' , 'HEIX4_TOTALDAIRY' ,\n",
    "                           'HEIX5_PROTEIN' , 'HEIX6_REFINEDGRAIN' , 'HEIX7_FRUITJUICE' , 'HEIX8_SSB', 'HEIX9_SWEETS',\n",
    "                           'HEIX10_SALTY']\n",
    "                    DQI(df,key, values['name'], values['parameters'])\n",
    "                    df['HEI2015_TOTAL_SCORE']=df[df.columns.intersection(toSum)].sum(axis=1)\n",
    "                    concat_filepath = os.path.join(arglist['SAVE'],'%s_%s_HEI.csv'%(option, name))\n",
    "                    df=df.drop_duplicates(subset=['Visit_label', 'Participant ID','Date of Intake','Date_taken'], keep='first')\n",
    "                    df.to_csv(concat_filepath, index=False, sep=\",\", header=True)\n",
    "                else:\n",
    "                    toSum=['HEIX0_BREASTFEEDING','HEIX1_VEGETABLES','HEIX2_TOTALFRUIT'  ,\n",
    "                           'HEIX5_PROTEIN' ,  'HEIX7_FRUITJUICE' , 'HEIX8_SSB', 'HEIX9_SWEETS',\n",
    "                           'HEIX10_SALTY', 'HEIX11_CEREAL']\n",
    "                    infant_DQI(df,key, values['name'], values['parameters'])\n",
    "                    df['HEI2015_TOTAL_SCORE']=df[df.columns.intersection(toSum)].sum(axis=1)\n",
    "                    concat_filepath = os.path.join(arglist['SAVE'],'%s_%s_HEI.csv'%(option, name))\n",
    "                    df=df.drop_duplicates(subset=['Visit_label', 'Participant ID','Date of Intake','Date_taken'], keep='first')\n",
    "                    df.to_csv(concat_filepath, index=False, sep=\",\", header=True)\n"
   ]
  },
  {
   "cell_type": "code",
   "execution_count": 173,
   "metadata": {
    "scrolled": true
   },
   "outputs": [
    {
     "name": "stdout",
     "output_type": "stream",
     "text": [
      "Calculating score for hei_vegetables\n",
      "now calculating HEIX1_VEGETABLES\n",
      "Calculating score for hei_totfruit\n",
      "now calculating HEIX2_TOTALFRUIT\n",
      "Calculating score for hei_wholegrains\n",
      "now calculating HEIX3_WHOLEGRAIN\n",
      "Calculating score for hei_milk\n",
      "now calculating HEIX4_TOTALDAIRY\n",
      "Calculating score for hei_proteins\n",
      "now calculating HEIX5_PROTEIN\n",
      "Calculating score for hei_refinedgrains\n",
      "now calculating HEIX6_REFINEDGRAIN\n",
      "Calculating score for hei_fruitjuice\n",
      "now calculating HEIX7_FRUITJUICE\n",
      "Calculating score for hei_SSB\n",
      "now calculating HEIX8_SSB\n",
      "Calculating score for hei_sweets\n",
      "now calculating HEIX9_SWEETS\n",
      "Calculating score for hei_salty\n",
      "now calculating HEIX10_SALTY\n",
      "Calculating score for hei_vegetables\n",
      "now calculating HEIX1_VEGETABLES\n",
      "Calculating score for hei_totfruit\n",
      "now calculating HEIX2_TOTALFRUIT\n",
      "Calculating score for hei_wholegrains\n",
      "now calculating HEIX3_WHOLEGRAIN\n",
      "Calculating score for hei_milk\n",
      "now calculating HEIX4_TOTALDAIRY\n",
      "Calculating score for hei_proteins\n",
      "now calculating HEIX5_PROTEIN\n",
      "Calculating score for hei_refinedgrains\n",
      "now calculating HEIX6_REFINEDGRAIN\n",
      "Calculating score for hei_fruitjuice\n",
      "now calculating HEIX7_FRUITJUICE\n",
      "Calculating score for hei_SSB\n",
      "now calculating HEIX8_SSB\n",
      "Calculating score for hei_sweets\n",
      "now calculating HEIX9_SWEETS\n",
      "Calculating score for hei_salty\n",
      "now calculating HEIX10_SALTY\n",
      "Calculating score for hei_vegetables\n",
      "now calculating infant HEIX1_VEGETABLES\n",
      "Calculating score for hei_totfruit\n",
      "now calculating infant HEIX2_TOTALFRUIT\n",
      "Calculating score for hei_wholegrains\n",
      "now calculating infant HEIX3_WHOLEGRAIN\n",
      "Calculating score for hei_dairy\n",
      "now calculating infant HEIX4_TOTALDAIRY\n",
      "Calculating score for hei_proteins\n",
      "now calculating infant HEIX5_PROTEIN\n",
      "Calculating score for hei_refinedgrains\n",
      "now calculating infant HEIX6_REFINEDGRAIN\n",
      "Calculating score for hei_fruitjuice\n",
      "now calculating infant HEIX7_FRUITJUICE\n",
      "Calculating score for hei_SSB\n",
      "now calculating infant HEIX8_SSB\n",
      "Calculating score for hei_sweets\n",
      "now calculating infant HEIX9_SWEETS\n",
      "Calculating score for hei_salty\n",
      "now calculating infant HEIX10_SALTY\n",
      "Calculating score for hei_cereal\n",
      "now calculating infant HEIX11_CEREAL\n"
     ]
    }
   ],
   "source": [
    "for key, value in split_dict.items():\n",
    "    if key == 'DF_child':\n",
    "        DQI_BF(value, 'HEIX0_BREASTFEEDING', 'child')\n",
    "        check(ped_dict['child'], value, 'child', key, arglist)\n",
    "    elif key == 'DF_young':\n",
    "        DQI_BF(value, 'HEIX0_BREASTFEEDING', 'young')\n",
    "        check(ped_dict['young'], value, 'young', key, arglist)\n",
    "    else:\n",
    "        DQI_BF(value, 'HEIX0_BREASTFEEDING', 'infant')\n",
    "        check(ped_dict['infant'], value, 'infant', key, arglist)"
   ]
  },
  {
   "cell_type": "code",
   "execution_count": 165,
   "metadata": {},
   "outputs": [
    {
     "data": {
      "text/plain": [
       "count    237.000000\n",
       "mean      39.396624\n",
       "std        6.485550\n",
       "min       25.000000\n",
       "25%       35.000000\n",
       "50%       39.000000\n",
       "75%       42.500000\n",
       "max       55.000000\n",
       "Name: HEI2015_TOTAL_SCORE, dtype: float64"
      ]
     },
     "execution_count": 165,
     "metadata": {},
     "output_type": "execute_result"
    }
   ],
   "source": [
    "split_dict['DF_young']['HEI2015_TOTAL_SCORE'].describe()"
   ]
  },
  {
   "cell_type": "code",
   "execution_count": 158,
   "metadata": {},
   "outputs": [
    {
     "data": {
      "text/plain": [
       "count    364.000000\n",
       "mean      36.263736\n",
       "std        5.608603\n",
       "min       20.000000\n",
       "25%       30.000000\n",
       "50%       40.000000\n",
       "75%       40.000000\n",
       "max       40.000000\n",
       "Name: HEI2015_TOTAL_SCORE, dtype: float64"
      ]
     },
     "execution_count": 158,
     "metadata": {},
     "output_type": "execute_result"
    }
   ],
   "source": [
    "split_dict['DF_infant']['HEI2015_TOTAL_SCORE'].describe()"
   ]
  },
  {
   "cell_type": "code",
   "execution_count": 166,
   "metadata": {},
   "outputs": [
    {
     "data": {
      "text/plain": [
       "(364, 496)"
      ]
     },
     "execution_count": 166,
     "metadata": {},
     "output_type": "execute_result"
    }
   ],
   "source": [
    "split_dict['DF_infant'].shape"
   ]
  },
  {
   "cell_type": "code",
   "execution_count": 170,
   "metadata": {},
   "outputs": [],
   "source": [
    "df=split_dict['DF_infant'].drop_duplicates(subset=['Visit_label', 'Participant ID','Date of Intake','Date_taken'], keep='first')"
   ]
  },
  {
   "cell_type": "code",
   "execution_count": 171,
   "metadata": {},
   "outputs": [
    {
     "data": {
      "text/plain": [
       "(178, 496)"
      ]
     },
     "execution_count": 171,
     "metadata": {},
     "output_type": "execute_result"
    }
   ],
   "source": [
    "df.shape"
   ]
  },
  {
   "cell_type": "code",
   "execution_count": null,
   "metadata": {},
   "outputs": [],
   "source": []
  }
 ],
 "metadata": {
  "kernelspec": {
   "display_name": "Python 3",
   "language": "python",
   "name": "python3"
  },
  "language_info": {
   "codemirror_mode": {
    "name": "ipython",
    "version": 3
   },
   "file_extension": ".py",
   "mimetype": "text/x-python",
   "name": "python",
   "nbconvert_exporter": "python",
   "pygments_lexer": "ipython3",
   "version": "3.6.5"
  }
 },
 "nbformat": 4,
 "nbformat_minor": 2
}

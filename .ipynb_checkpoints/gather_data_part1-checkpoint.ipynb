{
 "cells": [
  {
   "cell_type": "markdown",
   "metadata": {},
   "source": [
    "# BCP Pipeline Rough Draft"
   ]
  },
  {
   "cell_type": "code",
   "execution_count": 94,
   "metadata": {},
   "outputs": [],
   "source": [
    "import os, glob\n",
    "import pandas as pd"
   ]
  },
  {
   "cell_type": "code",
   "execution_count": 121,
   "metadata": {},
   "outputs": [
    {
     "data": {
      "text/plain": [
       "['/Users/nikkibytes/Documents/summer2019/example_data/UMNUNCMom09.txt',\n",
       " '/Users/nikkibytes/Documents/summer2019/example_data/UMNUNCChild09.txt']"
      ]
     },
     "execution_count": 121,
     "metadata": {},
     "output_type": "execute_result"
    }
   ],
   "source": [
    "data_dir_path = \"/Users/nikkibytes/Documents/summer2019/example_data\"\n",
    "\n",
    "\n",
    "data04_files_available = glob.glob(os.path.join(data_dir_path, \"*04*\"))\n",
    "\n",
    "data09_files_available = glob.glob(os.path.join(data_dir_path, \"*09*\"))\n",
    "\n",
    "data09_files_available"
   ]
  },
  {
   "cell_type": "code",
   "execution_count": 122,
   "metadata": {},
   "outputs": [],
   "source": [
    "child_data_path_04 = os.path.join(data_dir_path, \"UMNUNCChild04.txt\" )\n",
    "child_data_path_09 = os.path.join(data_dir_path, 'UMNUNCChild09.txt')\n",
    "\n",
    "mom_data_path_04 = os.path.join(data_dir_path, \"UMNUNCMom04.txt\" )\n",
    "mom_data_path_09 = os.path.join(data_dir_path, \"UMNUNCMom09.txt\" )\n",
    "\n",
    "\n"
   ]
  },
  {
   "cell_type": "code",
   "execution_count": 124,
   "metadata": {},
   "outputs": [],
   "source": [
    "child04=pd.read_table(child_data_path_04, index_col=False)\n",
    "\n",
    "child09=pd.read_table(child_data_path_09, encoding='latin1')\n",
    "\n",
    "\n",
    "mom04=pd.read_table(child_data_path_04, index_col=False)\n",
    "\n",
    "mom09=pd.read_table(child_data_path_09, encoding='latin1',index_col=False)\n",
    "\n"
   ]
  },
  {
   "cell_type": "code",
   "execution_count": 125,
   "metadata": {},
   "outputs": [
    {
     "name": "stdout",
     "output_type": "stream",
     "text": [
      "['Project Abbreviation', 'Participant ID', 'Date of Intake', 'FRU0100', 'FRU0200', 'FRU0300', 'FRU0400', 'FRU0500', 'FRU0600', 'FRU0700', 'VEG0100', 'VEG0200', 'VEG0300', 'VEG0400', 'VEG0800', 'VEG0450', 'VEG0700', 'VEG0600', 'VEG0900', 'VEG0500', 'FMC0100', 'GRW0100', 'GRS0100', 'GRR0100', 'GRW0200', 'GRS0200', 'GRR0200', 'GRW0300', 'GRS0300', 'GRR0300', 'GRW0400', 'GRS0400', 'GRR0400', 'GRW0500', 'GRS0500', 'GRR0500', 'GRW0600', 'GRS0600', 'GRR0600', 'GRW0700', 'GRS0700', 'GRR0700', 'GRW0800', 'GRS0800', 'GRR0800', 'GRW1000', 'GRS1000', 'GRR1000', 'GRW0900', 'GRS0900', 'GRR0900', 'GRW1100', 'GRW1200', 'GRR1300', 'MRF0100', 'MRL0100', 'MRF0200', 'MRL0200', 'MRF0300', 'MRL0300', 'MRF0400', 'MRL0400', 'MCF0200', 'MCL0200', 'MRF0500', 'MPF0100', 'MPL0100', 'MPF0200', 'MFF0100', 'MFL0100', 'MFF0200', 'MSL0100', 'MSF0100', 'MCF0100', 'MCL0100', 'MOF0100', 'MOF0200', 'FMC0200', 'MOF0300', 'MOF0400', 'MOF0500', 'MOF0600', 'MOF0700', 'DMF0100', 'DMR0100', 'DML0100', 'DMN0100', 'DMF0200', 'DMR0200', 'DML0200', 'DML0300', 'DML0400', 'SWT0600', 'MSC1100', 'DCF0100', 'DCR0100', 'DCL0100', 'DCN0100', 'DYF0100', 'DYR0100', 'DYL0100', 'DYF0200', 'DYR0200', 'DYL0200', 'DYN0100', 'DOT0100', 'DOT0200', 'DOT0300', 'DOT0400', 'FCF0100', 'FCR0100', 'FCL0100', 'FCN0100', 'DOT0500', 'DOT0600', 'DOT0700', 'DOT0800', 'FMF0100', 'FMR0100', 'FOF0100', 'FSF0100', 'FAF0100', 'FAR0100', 'FDF0100', 'FDR0100', 'SWT0400', 'MSC1200', 'SWT0500', 'SWT0700', 'SWT0800', 'SWT0100', 'SWT0200', 'SWT0300', 'BVS0400', 'BVA0400', 'BVU0300', 'BVS0300', 'BVA0300', 'BVS0500', 'BVA0500', 'BVU0400', 'BVS0100', 'BVA0100', 'BVU0100', 'BVS0200', 'BVA0200', 'BVU0200', 'BVS0600', 'BVA0600', 'BVU0500', 'BVS0700', 'BVA0700', 'BVU0600', 'BVO0100', 'BVO0200', 'BVE0100', 'BVE0400', 'BVE0300', 'BVE0200', 'MSC0100', 'MSC0200', 'MSC0300', 'MSC0400', 'MSC0500', 'MSC0600', 'MSC0700', 'MSC0800', 'MSC0900', 'MSC1000', 'GRW1300', 'GRS1300']\n"
     ]
    }
   ],
   "source": [
    "#child09.head()\n",
    "#child09_col_vals =list(child09.columns.values)\n",
    "#print(values)\n",
    "#child09.iloc[0]\n",
    "\n",
    "mom04_col_vals =list(mom09.columns.values)\n",
    "print(mom04_col_vals)"
   ]
  },
  {
   "cell_type": "code",
   "execution_count": 88,
   "metadata": {},
   "outputs": [],
   "source": [
    "df.drop([\"Data Field 1 Descriptor\",\"Data Field 1 Response\", \"Data Field 2 Descriptor\", \"Data Field 2 Response\", \"Data Field 3 Descriptor\", \"Data Field 3 Response\", \"Data Field 4 Descriptor\", \"Data Field 4 Response\", \"Data Field 5 Descriptor\", \"Data Field 5 Response\"], axis=1, inplace=True)\n",
    "\n",
    "df.drop([\"Column intentionally left blank\"], axis=1, inplace=True)\n",
    "\n"
   ]
  },
  {
   "cell_type": "code",
   "execution_count": 89,
   "metadata": {},
   "outputs": [],
   "source": [
    "#values =list(df.columns.values)\n",
    "#print(values)\n"
   ]
  },
  {
   "cell_type": "code",
   "execution_count": 90,
   "metadata": {},
   "outputs": [],
   "source": [
    "#selection = input(\"What value from the list below would you like to see?\")\n",
    "#df[selection]"
   ]
  },
  {
   "cell_type": "code",
   "execution_count": 91,
   "metadata": {},
   "outputs": [],
   "source": [
    "participants = df['Participant ID']"
   ]
  },
  {
   "cell_type": "code",
   "execution_count": 92,
   "metadata": {},
   "outputs": [],
   "source": [
    "ids = [] \n",
    "for i in participants:\n",
    "    ids.append(i.split(\"_\")[0])\n",
    "ids = list(set(ids))\n",
    "#ids"
   ]
  }
 ],
 "metadata": {
  "kernelspec": {
   "display_name": "Python 3",
   "language": "python",
   "name": "python3"
  },
  "language_info": {
   "codemirror_mode": {
    "name": "ipython",
    "version": 3
   },
   "file_extension": ".py",
   "mimetype": "text/x-python",
   "name": "python",
   "nbconvert_exporter": "python",
   "pygments_lexer": "ipython3",
   "version": "3.6.7"
  }
 },
 "nbformat": 4,
 "nbformat_minor": 2
}

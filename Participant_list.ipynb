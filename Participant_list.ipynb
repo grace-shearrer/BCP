{
 "cells": [
  {
   "cell_type": "code",
   "execution_count": 3,
   "metadata": {},
   "outputs": [],
   "source": [
    "import os, glob\n",
    "import pandas as pd"
   ]
  },
  {
   "cell_type": "code",
   "execution_count": 45,
   "metadata": {},
   "outputs": [
    {
     "name": "stdout",
     "output_type": "stream",
     "text": [
      "Text Files Found:  \\/Users/nikkibytes/Documents/summer2019/example_data/Total_Participant_Dataset.xlsx\n",
      "Sheet Names: ['All Participants']\n",
      "Columns: Index(['Record ID', 'Date of Intake', 'Child/Mother',\n",
      "       'QA Done/Sent to PI + Date', 'Site'],\n",
      "      dtype='object') \n",
      "Size: (1015, 5)\n"
     ]
    }
   ],
   "source": [
    "\n",
    "participant_file = \"/Users/nikkibytes/Documents/summer2019/example_data/Total_Participant_Dataset.xlsx\"\n",
    "\n",
    "\n",
    "print(\"Text Files Found:  \\{}\".format(participant_file))\n",
    "\n",
    "participant_xl = pd.ExcelFile(participant_file)\n",
    "\n",
    "print(\"Sheet Names: {}\".format(participant_xl.sheet_names))\n",
    "\n",
    "participant_df = participant_xl.parse(\"All Participants\")\n",
    "print(\"Columns: {} \\nSize: {}\".format(participant_df.columns, participant_df.shape))\n"
   ]
  },
  {
   "cell_type": "code",
   "execution_count": 46,
   "metadata": {},
   "outputs": [
    {
     "data": {
      "text/html": [
       "<div>\n",
       "<style scoped>\n",
       "    .dataframe tbody tr th:only-of-type {\n",
       "        vertical-align: middle;\n",
       "    }\n",
       "\n",
       "    .dataframe tbody tr th {\n",
       "        vertical-align: top;\n",
       "    }\n",
       "\n",
       "    .dataframe thead th {\n",
       "        text-align: right;\n",
       "    }\n",
       "</style>\n",
       "<table border=\"1\" class=\"dataframe\">\n",
       "  <thead>\n",
       "    <tr style=\"text-align: right;\">\n",
       "      <th></th>\n",
       "      <th>Record ID</th>\n",
       "      <th>Date of Intake</th>\n",
       "      <th>Child/Mother</th>\n",
       "      <th>QA Done/Sent to PI + Date</th>\n",
       "      <th>Site</th>\n",
       "    </tr>\n",
       "  </thead>\n",
       "  <tbody>\n",
       "    <tr>\n",
       "      <th>0</th>\n",
       "      <td>105040</td>\n",
       "      <td>2017-03-01</td>\n",
       "      <td>Child</td>\n",
       "      <td>7.19.2018</td>\n",
       "      <td>UMN</td>\n",
       "    </tr>\n",
       "    <tr>\n",
       "      <th>1</th>\n",
       "      <td>105040</td>\n",
       "      <td>2017-06-08</td>\n",
       "      <td>Child</td>\n",
       "      <td>7.19.2018</td>\n",
       "      <td>UMN</td>\n",
       "    </tr>\n",
       "    <tr>\n",
       "      <th>2</th>\n",
       "      <td>105040</td>\n",
       "      <td>2017-09-07</td>\n",
       "      <td>Child</td>\n",
       "      <td>7.19.2018</td>\n",
       "      <td>UMN</td>\n",
       "    </tr>\n",
       "    <tr>\n",
       "      <th>3</th>\n",
       "      <td>116056</td>\n",
       "      <td>2016-09-29</td>\n",
       "      <td>Child</td>\n",
       "      <td>7.19.2018</td>\n",
       "      <td>UMN</td>\n",
       "    </tr>\n",
       "    <tr>\n",
       "      <th>4</th>\n",
       "      <td>116056</td>\n",
       "      <td>2016-12-18</td>\n",
       "      <td>Child</td>\n",
       "      <td>7.19.2018</td>\n",
       "      <td>UMN</td>\n",
       "    </tr>\n",
       "  </tbody>\n",
       "</table>\n",
       "</div>"
      ],
      "text/plain": [
       "  Record ID Date of Intake Child/Mother QA Done/Sent to PI + Date Site\n",
       "0    105040     2017-03-01       Child                  7.19.2018  UMN\n",
       "1    105040     2017-06-08       Child                  7.19.2018  UMN\n",
       "2    105040     2017-09-07       Child                  7.19.2018  UMN\n",
       "3    116056     2016-09-29       Child                  7.19.2018  UMN\n",
       "4    116056     2016-12-18       Child                  7.19.2018  UMN"
      ]
     },
     "execution_count": 46,
     "metadata": {},
     "output_type": "execute_result"
    }
   ],
   "source": [
    "participant_df.head()\n"
   ]
  },
  {
   "cell_type": "code",
   "execution_count": 47,
   "metadata": {},
   "outputs": [
    {
     "name": "stdout",
     "output_type": "stream",
     "text": [
      "Check unique values returned is only child: \n",
      "['Child']\n"
     ]
    }
   ],
   "source": [
    "temp_df= participant_df.drop_duplicates(subset=\"Record ID\")\n",
    "child_df = temp_df.loc[temp_df['Child/Mother'] == \"Child\"]\n",
    "\n",
    "print(\"Check unique values returned is only child: \\n{}\".format(child_df[\"Child/Mother\"].unique()))\n"
   ]
  },
  {
   "cell_type": "code",
   "execution_count": 48,
   "metadata": {},
   "outputs": [
    {
     "data": {
      "text/html": [
       "<div>\n",
       "<style scoped>\n",
       "    .dataframe tbody tr th:only-of-type {\n",
       "        vertical-align: middle;\n",
       "    }\n",
       "\n",
       "    .dataframe tbody tr th {\n",
       "        vertical-align: top;\n",
       "    }\n",
       "\n",
       "    .dataframe thead th {\n",
       "        text-align: right;\n",
       "    }\n",
       "</style>\n",
       "<table border=\"1\" class=\"dataframe\">\n",
       "  <thead>\n",
       "    <tr style=\"text-align: right;\">\n",
       "      <th></th>\n",
       "      <th>Record ID</th>\n",
       "      <th>Date of Intake</th>\n",
       "      <th>QA Done/Sent to PI + Date</th>\n",
       "      <th>Site</th>\n",
       "    </tr>\n",
       "  </thead>\n",
       "  <tbody>\n",
       "    <tr>\n",
       "      <th>896</th>\n",
       "      <td>105040_R1_6F</td>\n",
       "      <td>2018-09-18</td>\n",
       "      <td>5.20.19</td>\n",
       "      <td>UMN</td>\n",
       "    </tr>\n",
       "    <tr>\n",
       "      <th>897</th>\n",
       "      <td>116056_R1_6F</td>\n",
       "      <td>2018-09-15</td>\n",
       "      <td>5.20.19</td>\n",
       "      <td>UMN</td>\n",
       "    </tr>\n",
       "    <tr>\n",
       "      <th>898</th>\n",
       "      <td>176427_R1_07</td>\n",
       "      <td>2018-08-16</td>\n",
       "      <td>5.20.19</td>\n",
       "      <td>UMN</td>\n",
       "    </tr>\n",
       "    <tr>\n",
       "      <th>899</th>\n",
       "      <td>185373_R1_1F</td>\n",
       "      <td>2018-07-13</td>\n",
       "      <td>5.20.19</td>\n",
       "      <td>UMN</td>\n",
       "    </tr>\n",
       "    <tr>\n",
       "      <th>900</th>\n",
       "      <td>185373_R2_01</td>\n",
       "      <td>2018-07-22</td>\n",
       "      <td>5.20.19</td>\n",
       "      <td>UMN</td>\n",
       "    </tr>\n",
       "  </tbody>\n",
       "</table>\n",
       "</div>"
      ],
      "text/plain": [
       "        Record ID Date of Intake QA Done/Sent to PI + Date Site\n",
       "896  105040_R1_6F     2018-09-18                   5.20.19  UMN\n",
       "897  116056_R1_6F     2018-09-15                   5.20.19  UMN\n",
       "898  176427_R1_07     2018-08-16                   5.20.19  UMN\n",
       "899  185373_R1_1F     2018-07-13                   5.20.19  UMN\n",
       "900  185373_R2_01     2018-07-22                   5.20.19  UMN"
      ]
     },
     "execution_count": 48,
     "metadata": {},
     "output_type": "execute_result"
    }
   ],
   "source": [
    "# remove unneccessarty column \n",
    "child_df = child_df.drop(labels=\"Child/Mother\", axis=1)\n",
    "child_df.head()"
   ]
  },
  {
   "cell_type": "code",
   "execution_count": 49,
   "metadata": {},
   "outputs": [
    {
     "name": "stdout",
     "output_type": "stream",
     "text": [
      "Text Files Found:  \n",
      "For Mom: /Users/nikkibytes/Documents/summer2019/example_data/UMNUNCChild04.txt,/Users/nikkibytes/Documents/summer2019/example_data/UMNUNCChild04_.txt \n",
      "For Child: /Users/nikkibytes/Documents/summer2019/example_data/UMNUNCMom04.txt\n"
     ]
    }
   ],
   "source": [
    "data_dir_path = \"/Users/nikkibytes/Documents/summer2019/example_data\"\n",
    "\n",
    "child04_text_files = glob.glob(os.path.join(data_dir_path, \"*Child*04*\"))\n",
    "mom04_text_files = glob.glob(os.path.join(data_dir_path, \"*Mom*04*\"))\n",
    "\n",
    "print(\"Text Files Found:  \\nFor Mom: {} \\nFor Child: {}\".format(','.join(child04_text_files), ','.join(mom04_text_files)))\n",
    "      "
   ]
  },
  {
   "cell_type": "code",
   "execution_count": null,
   "metadata": {},
   "outputs": [],
   "source": []
  },
  {
   "cell_type": "code",
   "execution_count": null,
   "metadata": {},
   "outputs": [],
   "source": []
  }
 ],
 "metadata": {
  "kernelspec": {
   "display_name": "Python 3",
   "language": "python",
   "name": "python3"
  },
  "language_info": {
   "codemirror_mode": {
    "name": "ipython",
    "version": 3
   },
   "file_extension": ".py",
   "mimetype": "text/x-python",
   "name": "python",
   "nbconvert_exporter": "python",
   "pygments_lexer": "ipython3",
   "version": "3.6.7"
  }
 },
 "nbformat": 4,
 "nbformat_minor": 2
}

{
 "cells": [
  {
   "cell_type": "code",
   "execution_count": 1,
   "metadata": {},
   "outputs": [],
   "source": [
    "import os, glob\n",
    "import pandas as pd"
   ]
  },
  {
   "cell_type": "code",
   "execution_count": 13,
   "metadata": {},
   "outputs": [
    {
     "data": {
      "text/plain": [
       "['/Users/nikkibytes/Documents/summer2019/example_data/UMNUNCChild04.txt',\n",
       " '/Users/nikkibytes/Documents/summer2019/example_data/UMNUNCMom04.txt']"
      ]
     },
     "execution_count": 13,
     "metadata": {},
     "output_type": "execute_result"
    }
   ],
   "source": [
    "data_dir_path = \"/Users/nikkibytes/Documents/summer2019/example_data\"\n",
    "\n",
    "data09_files_available = glob.glob(os.path.join(data_dir_path, \"*04*\"))\n",
    "data09_files_available"
   ]
  },
  {
   "cell_type": "code",
   "execution_count": null,
   "metadata": {},
   "outputs": [],
   "source": [
    "fields_to_get = ['Participant ID', 'Visit Number', 'Site ID' 'Total Grams',\n",
    "                 'Energy (kcal)', 'Total Fat (g)', 'Total Carbohydrate (g)', \n",
    "                 'Total Protein (g)', 'Animal Protein (g)', 'Vegetable Protein (g)',\n",
    "                 'Cholesterol (mg)', 'Total Saturated Fatty Acids (SFA) (g)',\n",
    "                 'Total Monounsaturated Fatty Acids (MUFA) (g)', 'Total Polyunsaturated Fatty Acids (PUFA) (g)',\n",
    "                 'Total Vitamin A Activity (International Units) (IU)', 'Vitamin D (calciferol) (mcg)', \n",
    "                 'Total Folate (mcg)', 'Vitamin B-12 (cobalamin) (mcg)', 'Magnesium (mg)',\n",
    "                 'Iron (mg)', 'Zinc (mg)', 'Copper (mg)', 'Selenium (mcg)', 'PUFA 20:4 (arachidonic acid) (g)',\n",
    "                 'PUFA 20:5 (eicosapentaenoic acid [EPA]) (g)', 'PUFA 22:6 (docosahexaenoic acid [DHA]) (g)', \n",
    "                 '% Calories from Fat', '% Calories from Carbohydrate', '% Calories from Protein', 'Polyunsaturated to Saturated Fat Ratio',\n",
    "                 'Lutein + Zeaxanthin (mcg)', 'Choline (mg)', 'Sphingomyelin (mg)', 'Phosphatidycholine (mg)']\n",
    "\n",
    "\n"
   ]
  },
  {
   "cell_type": "code",
   "execution_count": 41,
   "metadata": {},
   "outputs": [
    {
     "name": "stdout",
     "output_type": "stream",
     "text": [
      "0     001999_R1_01\n",
      "1     020784_R1_06\n",
      "2     116769_R1_6D\n",
      "3     156965_R1_4D\n",
      "4     249520_R1_03\n",
      "5     256619_R1_01\n",
      "6     280884_R1_1D\n",
      "7     387363_R1_01\n",
      "8     497541_R1_02\n",
      "9     505849_R1_01\n",
      "10    633471_R1_1D\n",
      "11    677937_R1_01\n",
      "12    679040_R1_6D\n",
      "13    731804_R1_01\n",
      "14    740415_R1_02\n",
      "15    798486_R1_01\n",
      "16    901945_R1_2D\n",
      "Name: Participant ID, dtype: object\n"
     ]
    }
   ],
   "source": [
    "for file in data09_files_available:\n",
    "    orig_df=pd.read_csv(file, sep=\"\\t\")\n",
    "    updated_df=orig_df[['Participant ID', 'Visit Number', 'Site ID', 'Total Grams',\n",
    "                 'Energy (kcal)', 'Total Fat (g)', 'Total Carbohydrate (g)', \n",
    "                 'Total Protein (g)', 'Animal Protein (g)', 'Vegetable Protein (g)',\n",
    "                 'Cholesterol (mg)', 'Total Saturated Fatty Acids (SFA) (g)',\n",
    "                 'Total Monounsaturated Fatty Acids (MUFA) (g)', 'Total Polyunsaturated Fatty Acids (PUFA) (g)',\n",
    "                 'Total Vitamin A Activity (International Units) (IU)', 'Vitamin D (calciferol) (mcg)', \n",
    "                 'Total Folate (mcg)', 'Vitamin B-12 (cobalamin) (mcg)', 'Magnesium (mg)',\n",
    "                 'Iron (mg)', 'Zinc (mg)', 'Copper (mg)', 'Selenium (mcg)', 'PUFA 20:4 (arachidonic acid) (g)',\n",
    "                 'PUFA 20:5 (eicosapentaenoic acid [EPA]) (g)', 'PUFA 22:6 (docosahexaenoic acid [DHA]) (g)', \n",
    "                 '% Calories from Fat', '% Calories from Carbohydrate', '% Calories from Protein', 'Polyunsaturated to Saturated Fat Ratio',\n",
    "                 'Lutein + Zeaxanthin (mcg)', 'Choline (mg)']]\n",
    "\n",
    "print(updated_df[\"Participant ID\"])\n",
    "\n",
    "\n"
   ]
  },
  {
   "cell_type": "code",
   "execution_count": null,
   "metadata": {},
   "outputs": [],
   "source": []
  },
  {
   "cell_type": "code",
   "execution_count": null,
   "metadata": {},
   "outputs": [],
   "source": []
  }
 ],
 "metadata": {
  "kernelspec": {
   "display_name": "Python 3",
   "language": "python",
   "name": "python3"
  },
  "language_info": {
   "codemirror_mode": {
    "name": "ipython",
    "version": 3
   },
   "file_extension": ".py",
   "mimetype": "text/x-python",
   "name": "python",
   "nbconvert_exporter": "python",
   "pygments_lexer": "ipython3",
   "version": "3.6.7"
  }
 },
 "nbformat": 4,
 "nbformat_minor": 2
}
